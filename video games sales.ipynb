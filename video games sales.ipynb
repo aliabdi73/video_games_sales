{
 "cells": [
  {
   "cell_type": "code",
   "execution_count": 47,
   "id": "40e1bc14",
   "metadata": {},
   "outputs": [],
   "source": [
    "import numpy as np\n",
    "import pandas as pd\n",
    "import matplotlib.pyplot as plt\n",
    "import seaborn as sns\n",
    "%matplotlib inline"
   ]
  },
  {
   "cell_type": "code",
   "execution_count": 48,
   "id": "8e7929b0",
   "metadata": {},
   "outputs": [],
   "source": [
    "df= pd.read_csv(\"video_games_sales.csv\")"
   ]
  },
  {
   "cell_type": "code",
   "execution_count": 49,
   "id": "ec699872",
   "metadata": {},
   "outputs": [
    {
     "data": {
      "text/html": [
       "<div>\n",
       "<style scoped>\n",
       "    .dataframe tbody tr th:only-of-type {\n",
       "        vertical-align: middle;\n",
       "    }\n",
       "\n",
       "    .dataframe tbody tr th {\n",
       "        vertical-align: top;\n",
       "    }\n",
       "\n",
       "    .dataframe thead th {\n",
       "        text-align: right;\n",
       "    }\n",
       "</style>\n",
       "<table border=\"1\" class=\"dataframe\">\n",
       "  <thead>\n",
       "    <tr style=\"text-align: right;\">\n",
       "      <th></th>\n",
       "      <th>Name</th>\n",
       "      <th>Platform</th>\n",
       "      <th>Year_of_Release</th>\n",
       "      <th>Genre</th>\n",
       "      <th>Publisher</th>\n",
       "      <th>NA_Sales</th>\n",
       "      <th>EU_Sales</th>\n",
       "      <th>JP_Sales</th>\n",
       "      <th>Other_Sales</th>\n",
       "      <th>Global_Sales</th>\n",
       "      <th>Critic_Score</th>\n",
       "      <th>Critic_Count</th>\n",
       "      <th>User_Score</th>\n",
       "      <th>User_Count</th>\n",
       "      <th>Developer</th>\n",
       "      <th>Rating</th>\n",
       "    </tr>\n",
       "  </thead>\n",
       "  <tbody>\n",
       "    <tr>\n",
       "      <th>0</th>\n",
       "      <td>Wii Sports</td>\n",
       "      <td>Wii</td>\n",
       "      <td>2006.0</td>\n",
       "      <td>Sports</td>\n",
       "      <td>Nintendo</td>\n",
       "      <td>41.36</td>\n",
       "      <td>28.96</td>\n",
       "      <td>3.77</td>\n",
       "      <td>8.45</td>\n",
       "      <td>82.53</td>\n",
       "      <td>76.0</td>\n",
       "      <td>51.0</td>\n",
       "      <td>8</td>\n",
       "      <td>322.0</td>\n",
       "      <td>Nintendo</td>\n",
       "      <td>E</td>\n",
       "    </tr>\n",
       "    <tr>\n",
       "      <th>1</th>\n",
       "      <td>Super Mario Bros.</td>\n",
       "      <td>NES</td>\n",
       "      <td>1985.0</td>\n",
       "      <td>Platform</td>\n",
       "      <td>Nintendo</td>\n",
       "      <td>29.08</td>\n",
       "      <td>3.58</td>\n",
       "      <td>6.81</td>\n",
       "      <td>0.77</td>\n",
       "      <td>40.24</td>\n",
       "      <td>NaN</td>\n",
       "      <td>NaN</td>\n",
       "      <td>NaN</td>\n",
       "      <td>NaN</td>\n",
       "      <td>NaN</td>\n",
       "      <td>NaN</td>\n",
       "    </tr>\n",
       "    <tr>\n",
       "      <th>2</th>\n",
       "      <td>Mario Kart Wii</td>\n",
       "      <td>Wii</td>\n",
       "      <td>2008.0</td>\n",
       "      <td>Racing</td>\n",
       "      <td>Nintendo</td>\n",
       "      <td>15.68</td>\n",
       "      <td>12.76</td>\n",
       "      <td>3.79</td>\n",
       "      <td>3.29</td>\n",
       "      <td>35.52</td>\n",
       "      <td>82.0</td>\n",
       "      <td>73.0</td>\n",
       "      <td>8.3</td>\n",
       "      <td>709.0</td>\n",
       "      <td>Nintendo</td>\n",
       "      <td>E</td>\n",
       "    </tr>\n",
       "    <tr>\n",
       "      <th>3</th>\n",
       "      <td>Wii Sports Resort</td>\n",
       "      <td>Wii</td>\n",
       "      <td>2009.0</td>\n",
       "      <td>Sports</td>\n",
       "      <td>Nintendo</td>\n",
       "      <td>15.61</td>\n",
       "      <td>10.93</td>\n",
       "      <td>3.28</td>\n",
       "      <td>2.95</td>\n",
       "      <td>32.77</td>\n",
       "      <td>80.0</td>\n",
       "      <td>73.0</td>\n",
       "      <td>8</td>\n",
       "      <td>192.0</td>\n",
       "      <td>Nintendo</td>\n",
       "      <td>E</td>\n",
       "    </tr>\n",
       "    <tr>\n",
       "      <th>4</th>\n",
       "      <td>Pokemon Red/Pokemon Blue</td>\n",
       "      <td>GB</td>\n",
       "      <td>1996.0</td>\n",
       "      <td>Role-Playing</td>\n",
       "      <td>Nintendo</td>\n",
       "      <td>11.27</td>\n",
       "      <td>8.89</td>\n",
       "      <td>10.22</td>\n",
       "      <td>1.00</td>\n",
       "      <td>31.37</td>\n",
       "      <td>NaN</td>\n",
       "      <td>NaN</td>\n",
       "      <td>NaN</td>\n",
       "      <td>NaN</td>\n",
       "      <td>NaN</td>\n",
       "      <td>NaN</td>\n",
       "    </tr>\n",
       "  </tbody>\n",
       "</table>\n",
       "</div>"
      ],
      "text/plain": [
       "                       Name Platform  Year_of_Release         Genre Publisher  \\\n",
       "0                Wii Sports      Wii           2006.0        Sports  Nintendo   \n",
       "1         Super Mario Bros.      NES           1985.0      Platform  Nintendo   \n",
       "2            Mario Kart Wii      Wii           2008.0        Racing  Nintendo   \n",
       "3         Wii Sports Resort      Wii           2009.0        Sports  Nintendo   \n",
       "4  Pokemon Red/Pokemon Blue       GB           1996.0  Role-Playing  Nintendo   \n",
       "\n",
       "   NA_Sales  EU_Sales  JP_Sales  Other_Sales  Global_Sales  Critic_Score  \\\n",
       "0     41.36     28.96      3.77         8.45         82.53          76.0   \n",
       "1     29.08      3.58      6.81         0.77         40.24           NaN   \n",
       "2     15.68     12.76      3.79         3.29         35.52          82.0   \n",
       "3     15.61     10.93      3.28         2.95         32.77          80.0   \n",
       "4     11.27      8.89     10.22         1.00         31.37           NaN   \n",
       "\n",
       "   Critic_Count User_Score  User_Count Developer Rating  \n",
       "0          51.0          8       322.0  Nintendo      E  \n",
       "1           NaN        NaN         NaN       NaN    NaN  \n",
       "2          73.0        8.3       709.0  Nintendo      E  \n",
       "3          73.0          8       192.0  Nintendo      E  \n",
       "4           NaN        NaN         NaN       NaN    NaN  "
      ]
     },
     "execution_count": 49,
     "metadata": {},
     "output_type": "execute_result"
    }
   ],
   "source": [
    "df.head()"
   ]
  },
  {
   "cell_type": "code",
   "execution_count": 50,
   "id": "40b946d0",
   "metadata": {},
   "outputs": [
    {
     "name": "stdout",
     "output_type": "stream",
     "text": [
      "<class 'pandas.core.frame.DataFrame'>\n",
      "RangeIndex: 16719 entries, 0 to 16718\n",
      "Data columns (total 16 columns):\n",
      " #   Column           Non-Null Count  Dtype  \n",
      "---  ------           --------------  -----  \n",
      " 0   Name             16717 non-null  object \n",
      " 1   Platform         16719 non-null  object \n",
      " 2   Year_of_Release  16450 non-null  float64\n",
      " 3   Genre            16717 non-null  object \n",
      " 4   Publisher        16665 non-null  object \n",
      " 5   NA_Sales         16719 non-null  float64\n",
      " 6   EU_Sales         16719 non-null  float64\n",
      " 7   JP_Sales         16719 non-null  float64\n",
      " 8   Other_Sales      16719 non-null  float64\n",
      " 9   Global_Sales     16719 non-null  float64\n",
      " 10  Critic_Score     8137 non-null   float64\n",
      " 11  Critic_Count     8137 non-null   float64\n",
      " 12  User_Score       10015 non-null  object \n",
      " 13  User_Count       7590 non-null   float64\n",
      " 14  Developer        10096 non-null  object \n",
      " 15  Rating           9950 non-null   object \n",
      "dtypes: float64(9), object(7)\n",
      "memory usage: 2.0+ MB\n"
     ]
    }
   ],
   "source": [
    "df.info()"
   ]
  },
  {
   "cell_type": "code",
   "execution_count": 51,
   "id": "3519bcc1",
   "metadata": {},
   "outputs": [
    {
     "data": {
      "text/plain": [
       "Name                  2\n",
       "Platform              0\n",
       "Year_of_Release     269\n",
       "Genre                 2\n",
       "Publisher            54\n",
       "NA_Sales              0\n",
       "EU_Sales              0\n",
       "JP_Sales              0\n",
       "Other_Sales           0\n",
       "Global_Sales          0\n",
       "Critic_Score       8582\n",
       "Critic_Count       8582\n",
       "User_Score         6704\n",
       "User_Count         9129\n",
       "Developer          6623\n",
       "Rating             6769\n",
       "dtype: int64"
      ]
     },
     "execution_count": 51,
     "metadata": {},
     "output_type": "execute_result"
    }
   ],
   "source": [
    "df.isnull().sum()"
   ]
  },
  {
   "cell_type": "code",
   "execution_count": 52,
   "id": "0a34fddc",
   "metadata": {},
   "outputs": [
    {
     "data": {
      "text/plain": [
       "Name               11562\n",
       "Platform              31\n",
       "Year_of_Release       39\n",
       "Genre                 12\n",
       "Publisher            581\n",
       "NA_Sales             402\n",
       "EU_Sales             307\n",
       "JP_Sales             244\n",
       "Other_Sales          155\n",
       "Global_Sales         629\n",
       "Critic_Score          82\n",
       "Critic_Count         106\n",
       "User_Score            96\n",
       "User_Count           888\n",
       "Developer           1696\n",
       "Rating                 8\n",
       "dtype: int64"
      ]
     },
     "execution_count": 52,
     "metadata": {},
     "output_type": "execute_result"
    }
   ],
   "source": [
    "df.nunique()"
   ]
  },
  {
   "cell_type": "code",
   "execution_count": 53,
   "id": "340a6fce",
   "metadata": {},
   "outputs": [
    {
     "data": {
      "text/html": [
       "<div>\n",
       "<style scoped>\n",
       "    .dataframe tbody tr th:only-of-type {\n",
       "        vertical-align: middle;\n",
       "    }\n",
       "\n",
       "    .dataframe tbody tr th {\n",
       "        vertical-align: top;\n",
       "    }\n",
       "\n",
       "    .dataframe thead th {\n",
       "        text-align: right;\n",
       "    }\n",
       "</style>\n",
       "<table border=\"1\" class=\"dataframe\">\n",
       "  <thead>\n",
       "    <tr style=\"text-align: right;\">\n",
       "      <th></th>\n",
       "      <th>Name</th>\n",
       "      <th>Platform</th>\n",
       "      <th>Year_of_Release</th>\n",
       "      <th>Genre</th>\n",
       "      <th>Publisher</th>\n",
       "      <th>NA_Sales</th>\n",
       "      <th>EU_Sales</th>\n",
       "      <th>JP_Sales</th>\n",
       "      <th>Other_Sales</th>\n",
       "      <th>Global_Sales</th>\n",
       "      <th>Critic_Score</th>\n",
       "      <th>Critic_Count</th>\n",
       "      <th>User_Score</th>\n",
       "      <th>User_Count</th>\n",
       "      <th>Developer</th>\n",
       "      <th>Rating</th>\n",
       "    </tr>\n",
       "  </thead>\n",
       "  <tbody>\n",
       "    <tr>\n",
       "      <th>0</th>\n",
       "      <td>Wii Sports</td>\n",
       "      <td>Wii</td>\n",
       "      <td>2006.0</td>\n",
       "      <td>Sports</td>\n",
       "      <td>Nintendo</td>\n",
       "      <td>41.36</td>\n",
       "      <td>28.96</td>\n",
       "      <td>3.77</td>\n",
       "      <td>8.45</td>\n",
       "      <td>82.53</td>\n",
       "      <td>76.0</td>\n",
       "      <td>51.0</td>\n",
       "      <td>8</td>\n",
       "      <td>322.0</td>\n",
       "      <td>Nintendo</td>\n",
       "      <td>E</td>\n",
       "    </tr>\n",
       "    <tr>\n",
       "      <th>1</th>\n",
       "      <td>Super Mario Bros.</td>\n",
       "      <td>NES</td>\n",
       "      <td>1985.0</td>\n",
       "      <td>Platform</td>\n",
       "      <td>Nintendo</td>\n",
       "      <td>29.08</td>\n",
       "      <td>3.58</td>\n",
       "      <td>6.81</td>\n",
       "      <td>0.77</td>\n",
       "      <td>40.24</td>\n",
       "      <td>NaN</td>\n",
       "      <td>NaN</td>\n",
       "      <td>NaN</td>\n",
       "      <td>NaN</td>\n",
       "      <td>NaN</td>\n",
       "      <td>NaN</td>\n",
       "    </tr>\n",
       "  </tbody>\n",
       "</table>\n",
       "</div>"
      ],
      "text/plain": [
       "                Name Platform  Year_of_Release     Genre Publisher  NA_Sales  \\\n",
       "0         Wii Sports      Wii           2006.0    Sports  Nintendo     41.36   \n",
       "1  Super Mario Bros.      NES           1985.0  Platform  Nintendo     29.08   \n",
       "\n",
       "   EU_Sales  JP_Sales  Other_Sales  Global_Sales  Critic_Score  Critic_Count  \\\n",
       "0     28.96      3.77         8.45         82.53          76.0          51.0   \n",
       "1      3.58      6.81         0.77         40.24           NaN           NaN   \n",
       "\n",
       "  User_Score  User_Count Developer Rating  \n",
       "0          8       322.0  Nintendo      E  \n",
       "1        NaN         NaN       NaN    NaN  "
      ]
     },
     "execution_count": 53,
     "metadata": {},
     "output_type": "execute_result"
    }
   ],
   "source": [
    "df.head(2)"
   ]
  },
  {
   "cell_type": "code",
   "execution_count": 54,
   "id": "3389d01d",
   "metadata": {},
   "outputs": [
    {
     "data": {
      "text/plain": [
       "(16719, 16)"
      ]
     },
     "execution_count": 54,
     "metadata": {},
     "output_type": "execute_result"
    }
   ],
   "source": [
    "df.shape"
   ]
  },
  {
   "cell_type": "code",
   "execution_count": 55,
   "id": "bf054a47",
   "metadata": {},
   "outputs": [],
   "source": [
    "df= df[df[\"Rating\"].notna()]"
   ]
  },
  {
   "cell_type": "code",
   "execution_count": 56,
   "id": "2d0e65d3",
   "metadata": {},
   "outputs": [
    {
     "data": {
      "text/plain": [
       "Name                  0\n",
       "Platform              0\n",
       "Year_of_Release     181\n",
       "Genre                 0\n",
       "Publisher             7\n",
       "NA_Sales              0\n",
       "EU_Sales              0\n",
       "JP_Sales              0\n",
       "Other_Sales           0\n",
       "Global_Sales          0\n",
       "Critic_Score       1896\n",
       "Critic_Count       1896\n",
       "User_Score           71\n",
       "User_Count         2446\n",
       "Developer             0\n",
       "Rating                0\n",
       "dtype: int64"
      ]
     },
     "execution_count": 56,
     "metadata": {},
     "output_type": "execute_result"
    }
   ],
   "source": [
    "df.isnull().sum()"
   ]
  },
  {
   "cell_type": "code",
   "execution_count": 57,
   "id": "7995134b",
   "metadata": {},
   "outputs": [
    {
     "data": {
      "text/plain": [
       "2009.0    1011\n",
       "2008.0     981\n",
       "2007.0     821\n",
       "2010.0     799\n",
       "2005.0     706\n",
       "2011.0     703\n",
       "2006.0     678\n",
       "2002.0     655\n",
       "2003.0     613\n",
       "2004.0     598\n",
       "2012.0     355\n",
       "2014.0     345\n",
       "2001.0     339\n",
       "2013.0     316\n",
       "2015.0     315\n",
       "2016.0     280\n",
       "2000.0     148\n",
       "1999.0      42\n",
       "1998.0      32\n",
       "1997.0      19\n",
       "1996.0       7\n",
       "1992.0       2\n",
       "1994.0       1\n",
       "1985.0       1\n",
       "2020.0       1\n",
       "1988.0       1\n",
       "Name: Year_of_Release, dtype: int64"
      ]
     },
     "execution_count": 57,
     "metadata": {},
     "output_type": "execute_result"
    }
   ],
   "source": [
    "df[\"Year_of_Release\"].value_counts()"
   ]
  },
  {
   "cell_type": "code",
   "execution_count": 58,
   "id": "d5ece0ae",
   "metadata": {},
   "outputs": [],
   "source": [
    "df= df[df[\"Critic_Score\"].notna()]\n",
    "df= df[df[\"Critic_Count\"].notna()]\n",
    "df= df[df[\"User_Count\"].notna()]"
   ]
  },
  {
   "cell_type": "code",
   "execution_count": 59,
   "id": "79156c10",
   "metadata": {},
   "outputs": [
    {
     "data": {
      "text/plain": [
       "Name                 0\n",
       "Platform             0\n",
       "Year_of_Release    121\n",
       "Genre                0\n",
       "Publisher            4\n",
       "NA_Sales             0\n",
       "EU_Sales             0\n",
       "JP_Sales             0\n",
       "Other_Sales          0\n",
       "Global_Sales         0\n",
       "Critic_Score         0\n",
       "Critic_Count         0\n",
       "User_Score           0\n",
       "User_Count           0\n",
       "Developer            0\n",
       "Rating               0\n",
       "dtype: int64"
      ]
     },
     "execution_count": 59,
     "metadata": {},
     "output_type": "execute_result"
    }
   ],
   "source": [
    "df.isnull().sum()"
   ]
  },
  {
   "cell_type": "code",
   "execution_count": 60,
   "id": "a4e14121",
   "metadata": {},
   "outputs": [],
   "source": [
    "df[\"Year_of_Release\"].fillna(2009.0, inplace= True)\n",
    "df[\"Publisher\"].fillna(\"Electronic Arts\", inplace= True)"
   ]
  },
  {
   "cell_type": "code",
   "execution_count": 61,
   "id": "648322ff",
   "metadata": {},
   "outputs": [
    {
     "data": {
      "text/plain": [
       "Name               0\n",
       "Platform           0\n",
       "Year_of_Release    0\n",
       "Genre              0\n",
       "Publisher          0\n",
       "NA_Sales           0\n",
       "EU_Sales           0\n",
       "JP_Sales           0\n",
       "Other_Sales        0\n",
       "Global_Sales       0\n",
       "Critic_Score       0\n",
       "Critic_Count       0\n",
       "User_Score         0\n",
       "User_Count         0\n",
       "Developer          0\n",
       "Rating             0\n",
       "dtype: int64"
      ]
     },
     "execution_count": 61,
     "metadata": {},
     "output_type": "execute_result"
    }
   ],
   "source": [
    "df.isnull().sum()"
   ]
  },
  {
   "cell_type": "code",
   "execution_count": 62,
   "id": "e3455d4d",
   "metadata": {},
   "outputs": [
    {
     "data": {
      "text/plain": [
       "(6947, 16)"
      ]
     },
     "execution_count": 62,
     "metadata": {},
     "output_type": "execute_result"
    }
   ],
   "source": [
    "df.shape"
   ]
  },
  {
   "cell_type": "code",
   "execution_count": 63,
   "id": "066b9eaa",
   "metadata": {},
   "outputs": [
    {
     "data": {
      "text/plain": [
       "<AxesSubplot:>"
      ]
     },
     "execution_count": 63,
     "metadata": {},
     "output_type": "execute_result"
    },
    {
     "data": {
      "image/png": "[encoded data removed]",
      "text/plain": [
       "<Figure size 576x576 with 2 Axes>"
      ]
     },
     "metadata": {
      "needs_background": "light"
     },
     "output_type": "display_data"
    }
   ],
   "source": [
    "plt.figure(figsize=(8,8))\n",
    "sns.heatmap(df.corr(), annot=True)"
   ]
  },
  {
   "cell_type": "code",
   "execution_count": 64,
   "id": "4eee9dc2",
   "metadata": {},
   "outputs": [
    {
     "data": {
      "text/html": [
       "<div>\n",
       "<style scoped>\n",
       "    .dataframe tbody tr th:only-of-type {\n",
       "        vertical-align: middle;\n",
       "    }\n",
       "\n",
       "    .dataframe tbody tr th {\n",
       "        vertical-align: top;\n",
       "    }\n",
       "\n",
       "    .dataframe thead th {\n",
       "        text-align: right;\n",
       "    }\n",
       "</style>\n",
       "<table border=\"1\" class=\"dataframe\">\n",
       "  <thead>\n",
       "    <tr style=\"text-align: right;\">\n",
       "      <th></th>\n",
       "      <th>Name</th>\n",
       "      <th>Platform</th>\n",
       "      <th>Year_of_Release</th>\n",
       "      <th>Genre</th>\n",
       "      <th>Publisher</th>\n",
       "      <th>NA_Sales</th>\n",
       "      <th>EU_Sales</th>\n",
       "      <th>JP_Sales</th>\n",
       "      <th>Other_Sales</th>\n",
       "      <th>Global_Sales</th>\n",
       "      <th>Critic_Score</th>\n",
       "      <th>Critic_Count</th>\n",
       "      <th>User_Score</th>\n",
       "      <th>User_Count</th>\n",
       "      <th>Developer</th>\n",
       "      <th>Rating</th>\n",
       "    </tr>\n",
       "  </thead>\n",
       "  <tbody>\n",
       "    <tr>\n",
       "      <th>0</th>\n",
       "      <td>Wii Sports</td>\n",
       "      <td>Wii</td>\n",
       "      <td>2006.0</td>\n",
       "      <td>Sports</td>\n",
       "      <td>Nintendo</td>\n",
       "      <td>41.36</td>\n",
       "      <td>28.96</td>\n",
       "      <td>3.77</td>\n",
       "      <td>8.45</td>\n",
       "      <td>82.53</td>\n",
       "      <td>76.0</td>\n",
       "      <td>51.0</td>\n",
       "      <td>8</td>\n",
       "      <td>322.0</td>\n",
       "      <td>Nintendo</td>\n",
       "      <td>E</td>\n",
       "    </tr>\n",
       "    <tr>\n",
       "      <th>2</th>\n",
       "      <td>Mario Kart Wii</td>\n",
       "      <td>Wii</td>\n",
       "      <td>2008.0</td>\n",
       "      <td>Racing</td>\n",
       "      <td>Nintendo</td>\n",
       "      <td>15.68</td>\n",
       "      <td>12.76</td>\n",
       "      <td>3.79</td>\n",
       "      <td>3.29</td>\n",
       "      <td>35.52</td>\n",
       "      <td>82.0</td>\n",
       "      <td>73.0</td>\n",
       "      <td>8.3</td>\n",
       "      <td>709.0</td>\n",
       "      <td>Nintendo</td>\n",
       "      <td>E</td>\n",
       "    </tr>\n",
       "  </tbody>\n",
       "</table>\n",
       "</div>"
      ],
      "text/plain": [
       "             Name Platform  Year_of_Release   Genre Publisher  NA_Sales  \\\n",
       "0      Wii Sports      Wii           2006.0  Sports  Nintendo     41.36   \n",
       "2  Mario Kart Wii      Wii           2008.0  Racing  Nintendo     15.68   \n",
       "\n",
       "   EU_Sales  JP_Sales  Other_Sales  Global_Sales  Critic_Score  Critic_Count  \\\n",
       "0     28.96      3.77         8.45         82.53          76.0          51.0   \n",
       "2     12.76      3.79         3.29         35.52          82.0          73.0   \n",
       "\n",
       "  User_Score  User_Count Developer Rating  \n",
       "0          8       322.0  Nintendo      E  \n",
       "2        8.3       709.0  Nintendo      E  "
      ]
     },
     "execution_count": 64,
     "metadata": {},
     "output_type": "execute_result"
    }
   ],
   "source": [
    "df.head(2)"
   ]
  },
  {
   "cell_type": "code",
   "execution_count": 65,
   "id": "3cda3e9a",
   "metadata": {},
   "outputs": [],
   "source": [
    "df=df.drop([\"Global_Sales\"], axis=1)"
   ]
  },
  {
   "cell_type": "code",
   "execution_count": 66,
   "id": "f0bc00e5",
   "metadata": {},
   "outputs": [
    {
     "data": {
      "text/plain": [
       "PS2     1161\n",
       "X360     877\n",
       "PS3      783\n",
       "PC       667\n",
       "XB       580\n",
       "Wii      491\n",
       "DS       468\n",
       "PSP      393\n",
       "GC       356\n",
       "GBA      241\n",
       "PS4      239\n",
       "XOne     159\n",
       "3DS      157\n",
       "PS       153\n",
       "PSV      119\n",
       "WiiU      89\n",
       "DC        14\n",
       "Name: Platform, dtype: int64"
      ]
     },
     "execution_count": 66,
     "metadata": {},
     "output_type": "execute_result"
    }
   ],
   "source": [
    "df[\"Platform\"].value_counts()"
   ]
  },
  {
   "cell_type": "code",
   "execution_count": 67,
   "id": "017490d4",
   "metadata": {},
   "outputs": [],
   "source": [
    "def platform(x):\n",
    "    if x==\"PS2\":\n",
    "        return \"PS2\"\n",
    "    elif x==\"X360\":\n",
    "        return \"X360\"\n",
    "    elif x== \"PS3\":\n",
    "        return \"PS3\"\n",
    "    elif x== \"PC\":\n",
    "        return \"PC\"\n",
    "    else:\n",
    "        return \"other_console\"\n",
    "df[\"platform_new\"]=df[\"Platform\"].map(platform)\n",
    "    "
   ]
  },
  {
   "cell_type": "code",
   "execution_count": 68,
   "id": "64c2c7b7",
   "metadata": {},
   "outputs": [
    {
     "data": {
      "text/html": [
       "<div>\n",
       "<style scoped>\n",
       "    .dataframe tbody tr th:only-of-type {\n",
       "        vertical-align: middle;\n",
       "    }\n",
       "\n",
       "    .dataframe tbody tr th {\n",
       "        vertical-align: top;\n",
       "    }\n",
       "\n",
       "    .dataframe thead th {\n",
       "        text-align: right;\n",
       "    }\n",
       "</style>\n",
       "<table border=\"1\" class=\"dataframe\">\n",
       "  <thead>\n",
       "    <tr style=\"text-align: right;\">\n",
       "      <th></th>\n",
       "      <th>Name</th>\n",
       "      <th>Platform</th>\n",
       "      <th>Year_of_Release</th>\n",
       "      <th>Genre</th>\n",
       "      <th>Publisher</th>\n",
       "      <th>NA_Sales</th>\n",
       "      <th>EU_Sales</th>\n",
       "      <th>JP_Sales</th>\n",
       "      <th>Other_Sales</th>\n",
       "      <th>Critic_Score</th>\n",
       "      <th>Critic_Count</th>\n",
       "      <th>User_Score</th>\n",
       "      <th>User_Count</th>\n",
       "      <th>Developer</th>\n",
       "      <th>Rating</th>\n",
       "      <th>platform_new</th>\n",
       "    </tr>\n",
       "  </thead>\n",
       "  <tbody>\n",
       "    <tr>\n",
       "      <th>0</th>\n",
       "      <td>Wii Sports</td>\n",
       "      <td>Wii</td>\n",
       "      <td>2006.0</td>\n",
       "      <td>Sports</td>\n",
       "      <td>Nintendo</td>\n",
       "      <td>41.36</td>\n",
       "      <td>28.96</td>\n",
       "      <td>3.77</td>\n",
       "      <td>8.45</td>\n",
       "      <td>76.0</td>\n",
       "      <td>51.0</td>\n",
       "      <td>8</td>\n",
       "      <td>322.0</td>\n",
       "      <td>Nintendo</td>\n",
       "      <td>E</td>\n",
       "      <td>other_console</td>\n",
       "    </tr>\n",
       "    <tr>\n",
       "      <th>2</th>\n",
       "      <td>Mario Kart Wii</td>\n",
       "      <td>Wii</td>\n",
       "      <td>2008.0</td>\n",
       "      <td>Racing</td>\n",
       "      <td>Nintendo</td>\n",
       "      <td>15.68</td>\n",
       "      <td>12.76</td>\n",
       "      <td>3.79</td>\n",
       "      <td>3.29</td>\n",
       "      <td>82.0</td>\n",
       "      <td>73.0</td>\n",
       "      <td>8.3</td>\n",
       "      <td>709.0</td>\n",
       "      <td>Nintendo</td>\n",
       "      <td>E</td>\n",
       "      <td>other_console</td>\n",
       "    </tr>\n",
       "    <tr>\n",
       "      <th>3</th>\n",
       "      <td>Wii Sports Resort</td>\n",
       "      <td>Wii</td>\n",
       "      <td>2009.0</td>\n",
       "      <td>Sports</td>\n",
       "      <td>Nintendo</td>\n",
       "      <td>15.61</td>\n",
       "      <td>10.93</td>\n",
       "      <td>3.28</td>\n",
       "      <td>2.95</td>\n",
       "      <td>80.0</td>\n",
       "      <td>73.0</td>\n",
       "      <td>8</td>\n",
       "      <td>192.0</td>\n",
       "      <td>Nintendo</td>\n",
       "      <td>E</td>\n",
       "      <td>other_console</td>\n",
       "    </tr>\n",
       "    <tr>\n",
       "      <th>6</th>\n",
       "      <td>New Super Mario Bros.</td>\n",
       "      <td>DS</td>\n",
       "      <td>2006.0</td>\n",
       "      <td>Platform</td>\n",
       "      <td>Nintendo</td>\n",
       "      <td>11.28</td>\n",
       "      <td>9.14</td>\n",
       "      <td>6.50</td>\n",
       "      <td>2.88</td>\n",
       "      <td>89.0</td>\n",
       "      <td>65.0</td>\n",
       "      <td>8.5</td>\n",
       "      <td>431.0</td>\n",
       "      <td>Nintendo</td>\n",
       "      <td>E</td>\n",
       "      <td>other_console</td>\n",
       "    </tr>\n",
       "    <tr>\n",
       "      <th>7</th>\n",
       "      <td>Wii Play</td>\n",
       "      <td>Wii</td>\n",
       "      <td>2006.0</td>\n",
       "      <td>Misc</td>\n",
       "      <td>Nintendo</td>\n",
       "      <td>13.96</td>\n",
       "      <td>9.18</td>\n",
       "      <td>2.93</td>\n",
       "      <td>2.84</td>\n",
       "      <td>58.0</td>\n",
       "      <td>41.0</td>\n",
       "      <td>6.6</td>\n",
       "      <td>129.0</td>\n",
       "      <td>Nintendo</td>\n",
       "      <td>E</td>\n",
       "      <td>other_console</td>\n",
       "    </tr>\n",
       "  </tbody>\n",
       "</table>\n",
       "</div>"
      ],
      "text/plain": [
       "                    Name Platform  Year_of_Release     Genre Publisher  \\\n",
       "0             Wii Sports      Wii           2006.0    Sports  Nintendo   \n",
       "2         Mario Kart Wii      Wii           2008.0    Racing  Nintendo   \n",
       "3      Wii Sports Resort      Wii           2009.0    Sports  Nintendo   \n",
       "6  New Super Mario Bros.       DS           2006.0  Platform  Nintendo   \n",
       "7               Wii Play      Wii           2006.0      Misc  Nintendo   \n",
       "\n",
       "   NA_Sales  EU_Sales  JP_Sales  Other_Sales  Critic_Score  Critic_Count  \\\n",
       "0     41.36     28.96      3.77         8.45          76.0          51.0   \n",
       "2     15.68     12.76      3.79         3.29          82.0          73.0   \n",
       "3     15.61     10.93      3.28         2.95          80.0          73.0   \n",
       "6     11.28      9.14      6.50         2.88          89.0          65.0   \n",
       "7     13.96      9.18      2.93         2.84          58.0          41.0   \n",
       "\n",
       "  User_Score  User_Count Developer Rating   platform_new  \n",
       "0          8       322.0  Nintendo      E  other_console  \n",
       "2        8.3       709.0  Nintendo      E  other_console  \n",
       "3          8       192.0  Nintendo      E  other_console  \n",
       "6        8.5       431.0  Nintendo      E  other_console  \n",
       "7        6.6       129.0  Nintendo      E  other_console  "
      ]
     },
     "execution_count": 68,
     "metadata": {},
     "output_type": "execute_result"
    }
   ],
   "source": [
    "df.head()"
   ]
  },
  {
   "cell_type": "code",
   "execution_count": 69,
   "id": "5315814f",
   "metadata": {},
   "outputs": [
    {
     "data": {
      "text/plain": [
       "Action          1663\n",
       "Sports           965\n",
       "Shooter          882\n",
       "Role-Playing     718\n",
       "Racing           591\n",
       "Platform         407\n",
       "Misc             394\n",
       "Fighting         382\n",
       "Simulation       301\n",
       "Strategy         274\n",
       "Adventure        249\n",
       "Puzzle           121\n",
       "Name: Genre, dtype: int64"
      ]
     },
     "execution_count": 69,
     "metadata": {},
     "output_type": "execute_result"
    }
   ],
   "source": [
    "df[\"Genre\"].value_counts()"
   ]
  },
  {
   "cell_type": "code",
   "execution_count": 70,
   "id": "bd9e810d",
   "metadata": {},
   "outputs": [
    {
     "name": "stdout",
     "output_type": "stream",
     "text": [
      "{'EA Canada': 152, 'EA Sports': 145, 'Capcom': 128, 'Ubisoft': 104, 'Konami': 98, 'Ubisoft Montreal': 88, 'EA Tiburon': 86, 'Omega Force': 69, 'Visual Concepts': 68, 'Electronic Arts': 68, 'Nintendo': 68, \"Traveller's Tales\": 68, 'Vicarious Visions': 59, 'Codemasters': 58, 'Namco': 55, \"Yuke's\": 48, 'Midway': 44, 'TT Games': 43, 'Neversoft Entertainment': 43, 'Treyarch': 42, 'Maxis': 42, 'From Software': 41, 'Eurocom Entertainment Software': 40, 'Square Enix': 40, 'Sonic Team': 36, 'Radical Entertainment': 34, 'TOSE': 34, 'Arc System Works': 32, 'Harmonix Music Systems': 32, 'Sega': 32, 'Artificial Mind and Movement': 32, 'High Voltage Software': 31, 'Rebellion': 30, 'Koei': 27, 'Gearbox Software': 27, 'Climax Group': 26, 'Acclaim': 25, 'KCET': 25, 'SCEA San Diego Studios': 25, 'Rainbow Studios': 25, 'Criterion Games': 24, 'Krome Studios': 24, 'EA Games': 24, 'EA DICE': 24, 'Griptonite Games': 23, 'Ubisoft Shanghai': 23, 'Nippon Ichi Software': 22, 'CyberConnect2': 22, 'BioWare': 22, 'Exient Entertainment': 22, 'Crystal Dynamics': 21, 'Terminal Reality': 21, 'Volition Inc.': 21, 'THQ': 21, 'LucasArts': 21, 'Team 17': 21, 'EA Redwood Shores': 21, 'Io Interactive': 20, 'EA Bright Light': 20, 'Techland': 20, 'Creative Assembly': 20, 'Heavy Iron Studios': 20, 'Dimps Corporation': 20, 'Blizzard Entertainment': 20, 'Milestone S.r.l': 19, 'Beenox': 19, 'Eutechnyx': 19, 'Double Helix Games': 19, 'SNK Playmore': 19, 'Amaze Entertainment': 18, 'Kush Games': 18, 'WayForward': 18, 'Intelligent Systems': 18, 'Bandai Namco Games': 18, 'Ubisoft Montpellier': 18, 'Toys for Bob': 17, 'Tecmo': 17, 'Sumo Digital': 17, 'SCE Japan Studio': 17, '3DO': 17, 'Atlus': 17, 'Team Ninja': 17, 'Rockstar San Diego': 17, 'Spike': 17, 'Blitz Games': 17, 'PlatinumGames': 17, 'Pandemic Studios': 16, 'Obsidian Entertainment': 16, 'Digital Eclipse': 16, 'EA LA': 16, 'Backbone Entertainment': 16, 'Raven Software': 16, 'Avalanche Software': 16, 'Taito Corporation': 16, 'Black Box': 16, 'Rare Ltd.': 16, 'SquareSoft': 15, 'Z-Axis, Ltd.': 15, 'Level 5': 15, 'PopCap': 15, 'Infinity Ward': 15, 'Ubisoft Paris': 14, 'Relic': 14, 'Rockstar North': 14, 'SCEA': 14, 'Argonaut Games': 14, 'Point of View': 14, 'Grasshopper Manufacture': 13, 'Firaxis Games': 13, 'n-Space': 13, 'Digital Illusions': 13, 'Next Level Games': 13, '2K Sports': 13, 'Valve Software': 13, 'Blue Castle Games': 13, 'Gust': 13, 'Mass Media': 13, 'Visceral Games': 13, 'Namco Bandai Games': 13, 'FUN Labs': 13, 'HAL Labs': 13, 'Edge of Reality': 12, '7 Studios': 12, 'Cavia Inc.': 12, 'Vicious Cycle': 12, 'Asobo Studio': 12, 'Sting': 12, 'Kojima Productions': 12, 'Game Arts': 12, 'SCEE London Studio': 12, '989 Sports': 12, 'Blue Tongue Entertainment': 12, 'HB Studios Multimedia': 12, 'Neverland': 12, 'Activision': 12, 'Ubisoft Quebec': 12, 'Acquire': 11, 'Microsoft Game Studios': 11, 'Bandai': 11, 'Bugbear': 11, 'Free Radical Design': 11, 'Racjin': 11, 'Haemimont': 11, 'Gaijin Entertainment': 11, 'Pipeworks Software, Inc.': 11, 'KCEJ': 11, 'Hudson': 11, 'Rocksteady Studios': 11, 'High Moon Studios': 11, 'Ubisoft Romania': 11, 'Tri-Ace': 11, 'Starbreeze': 11, 'Paradigm Entertainment': 11, 'EA Black Box': 11, 'Epic Games': 11, 'Now Production': 10, 'Frontier Developments': 10, 'Monolith Productions': 10, 'Hudson Soft': 10, 'Crytek': 10, 'Natsume': 10, 'Treasure': 10, 'Spark Unlimited': 10, 'Acclaim Studios Cheltenham': 10, 'Bizarre Creations': 10, 'FreeStyleGames': 10, 'Pivotal Games': 10, 'Shaba Games': 10, 'Shiny Entertainment': 10, 'Naughty Dog': 10, 'Spike Chunsoft': 10, 'Page 44 Studios': 9, '5TH Cell': 9, 'Camelot Software Planning': 9, 'Game Republic': 9, 'Insomniac Games': 9, 'Digital Extremes': 9, 'Piranha Bytes': 9, 'TT Fusion': 9, 'Sega AM2': 9, 'Rockstar Leeds': 9, 'Avalanche Studios': 9, 'Papaya Studios': 9, 'Compile Heart': 9, 'InXile Entertainment': 9, 'Sports Interactive': 9, 'Bethesda Game Studios': 9, 'Day 1 Studios': 9, 'Image Epoch, Imageepoch': 9, 'Falcom': 9, 'Kuju Entertainment': 9, 'Snowblind Studios': 8, 'Indies Zero': 8, 'Secret Level': 8, 'Zoe Mode': 8, 'Microids': 8, 'Zipper Interactive': 8, 'Eden Studios': 8, 'Reflections Interactive': 8, 'Exakt': 8, 'Warthog': 8, 'Stormfront Studios': 8, 'Magic Pockets': 8, 'EA Montreal': 8, 'id Software': 8, 'Genki': 8, 'Media Vision': 8, 'Konami Computer Entertainment Hawaii': 8, 'BudCat': 8, 'Atlus Co.': 8, 'Clover Studio': 8, 'Luxoflux, Inc.': 8, 'The Sims Studio': 8, 'Juice Games': 8, 'Etranges Libellules': 8, 'Nixxes Software': 8, 'Gas Powered Games': 7, 'Namco Bandai Games America, Namco Bandai Games': 7, 'SCEE': 7, 'Monolith Soft': 7, 'Firebrand Games': 7, 'Rockstar Toronto': 7, 'Climax Group, Climax Studios': 7, 'Q Entertainment': 7, '5pb': 7, 'City Interactive': 7, 'Amusement Vision': 7, 'Sanzaru Games': 7, 'Koei Tecmo Games': 7, 'Silicon Knights': 7, 'Opus': 7, 'Red Fly Studio': 7, 'EA Chicago': 7, 'Polyphony Digital': 7, 'Arika': 7, 'Pyro Studios': 7, 'Clap Hanz': 7, 'Remedy Entertainment': 7, 'Vigil Games': 7, 'Sandlot': 7, 'Monster Games Inc.': 7, 'Inti Creates': 7, 'Sucker Punch': 7, 'Koei, Omega Force': 7, 'Xpec': 7, 'Black Ops Entertainment': 7, 'Codemasters Birmingham': 7, 'Aki Corp.': 7, 'CD Projekt Red Studio': 7, 'Red Storm Entertainment': 7, 'Ganbarion': 7, 'UBlart Montpellier': 6, 'Propaganda Games': 6, 'Mercury Steam': 6, 'Marvelous Entertainment': 6, 'Slightly Mad Studios': 6, 'Altron': 6, 'Headstrong Games': 6, 'Core Design Ltd.': 6, 'Evolution Studios': 6, 'Lionhead Studios': 6, 'Artoon': 6, 'Project Aces': 6, 'Sidhe Interactive': 6, 'Engine Software': 6, 'Irem': 6, 'Surreal Software': 6, 'Pam Development': 6, 'Tamsoft': 6, '2K Marin': 6, 'Big Huge Games': 6, 'Airtight Games': 6, 'K2 LLC': 6, 'Hydravision': 6, 'Robomodo': 6, 'Studio Liverpool': 6, 'Saber Interactive': 6, 'Creat Studios': 6, 'GRIN': 6, 'Sony Bend': 6, 'Jaleco Entertainment': 6, 'Arkane Studios': 6, 'Webfoot Technologies': 6, 'Guerrilla': 6, 'Nex Entertainment': 6, 'NetherRealm Studios': 6, 'DONTNOD Entertainment': 6, 'Alfa System': 6, 'Paradox Development': 6, 'Incognito Inc.': 6, 'Retro Studios': 6, 'Gameloft': 6, 'Full Fat': 6, 'Frogwares': 6, 'h.a.n.d. Inc.': 6, 'Bluepoint Games': 5, 'SimBin': 5, 'Bec': 5, 'Ready at Dawn': 5, 'Ninja Theory': 5, 'Paon Corporation': 5, 'Blue Byte': 5, 'Venom Games': 5, 'DC Studios': 5, 'ChunSoft': 5, 'Farsight Studios': 5, 'Idea Factory': 5, 'Ghost Games': 5, 'FuRyu': 5, 'Eighting': 5, 'High Impact Games': 5, 'Revolution Software': 5, 'Bungie Software, Bungie': 5, 'ArtePiazza': 5, 'Vanillaware': 5, 'Slant Six': 5, 'Respawn Entertainment': 5, 'Red Tribe': 5, 'Black Rock Studio': 5, 'Midway Studios - Austin': 5, 'KCE Studios': 5, 'Larian Studios': 5, 'Atari': 5, 'Turn 10': 5, '2K Czech': 5, 'Nihilistic': 5, 'Atomic Planet Entertainment': 5, 'Sony Online Entertainment': 5, 'Left Field Productions': 5, 'Triumph Studios': 5, 'Telltale Games': 5, 'Wow Entertainment': 5, 'SCE Santa Monica': 5, 'Matrix Software': 5, 'Ensemble Studios': 5, '4J Studios': 5, 'Quantic Dream': 5, 'Kalypso': 5, 'Jupiter Corporation': 5, 'Prope': 5, 'Smilebit': 5, 'Marvelous Inc.': 5, 'EA Salt Lake': 4, 'Sensory Sweep': 4, 'Inti': 4, 'Splash Damage': 4, 'Art': 4, 'Pseudo Interactive': 4, 'MachineGames': 4, 'Torus Games': 4, 'Double Fine Productions': 4, 'Ubisoft Reflections': 4, 'Zombie Studios': 4, 'High Voltage Software, Backbone Entertainment': 4, 'Giants Software': 4, 'Eidos Montreal': 4, 'Oddworld Inhabitants': 4, 'Treyarch, Shaba Games': 4, 'Bits Studios': 4, 'Genuine Games': 4, 'Virtuos': 4, 'Mad Doc Software': 4, 'Tri-Crescendo': 4, 'Cyanide': 4, 'GSC Game World': 4, 'Nd Cube': 4, 'Behaviour Interactive': 4, 'FireFly Studios': 4, 'Nintendo, Nd Cube': 4, 'Polygon Magic': 4, 'AWE Games': 4, 'Acclaim Studios Austin': 4, 'RedLynx': 4, 'Yager': 4, 'Access Games': 4, 'UDS': 4, 'Reality Pump': 4, '343 Industries': 4, 'Bohemia Interactive': 4, 'Irrational Games': 4, 'Marvelous': 4, 'VIS Entertainment': 4, 'Funcom': 4, 'Planet Moon Studios': 4, 'Ubisoft Vancouver': 4, 'Hitmaker': 4, 'Ignition Entertainment': 4, 'DreamFactory': 4, 'Bethesda Softworks': 4, 'Infinite Interactive': 4, \"Shin'en\": 4, 'Pacific Coast Power & Light': 4, 'Iron Galaxy Studios': 4, 'iNiS': 4, 'Black Isle Studios': 4, 'Light Weight': 4, 'FeelPlus': 4, 'Trion Worlds': 4, 'Ion Storm': 4, 'Saffire': 4, 'SCEI': 4, 'United Front Games': 4, 'Gaming Minds Studios': 4, 'Kaos Studios': 4, 'Ubisoft Toronto': 4, 'Capcom Vancouver': 4, 'Wideload Games Inc.': 4, 'Totally Games': 4, 'Massive Entertainment': 4, 'Nordic Games Publishing': 4, 'Hellbent Games': 4, 'Deep Silver': 4, 'Eidos Interactive': 4, 'Bigbig Studios': 4, 'Crave': 4, 'ArenaNet': 4, 'Smart Bomb Interactive': 4, 'Sand Grain Studios': 4, 'Eighting/Raizing': 4, 'Croteam': 4, 'Ryu ga Gotoku Studios': 4, 'Tantalus Interactive': 4, 'Zerodiv': 3, 'Rockstar London': 3, '2K Games': 3, 'Overkill Software': 3, 'Supersonic Software': 3, 'Game Freak': 3, 'NuFX': 3, 'Anchor': 3, 'Media Molecule': 3, 'Crystal Dynamics, Nixxes Software': 3, 'Valuewave Co.,Ltd.': 3, 'Big Ant Studios': 3, 'Bungie Software': 3, 'Neverland, Idea Factory': 3, '4A Games': 3, 'Team Fusion': 3, 'Success': 3, 'Epic Games, People Can Fly': 3, 'Deibus Studios': 3, 'Spiders': 3, 'Kadokawa': 3, 'Illusion Softworks': 3, 'Swordfish Studios': 3, 'WinkySoft': 3, 'Ubisoft, Ubisoft Montreal': 3, 'Ubisoft Casablanca': 3, 'Stainless Games': 3, 'Ivory Tower': 3, 'Cave': 3, 'Piranha Games': 3, 'Jellyvision, Iron Galaxy Studios': 3, 'Takara Tomy': 3, 'Deadline Games': 3, 'Experience Inc.': 3, 'Human Head Studios': 3, 'Stormregion': 3, 'Rockstar Studios': 3, 'Appaloosa Interactive': 3, 'Angel Studios': 3, 'Digital Mayhem': 3, 'Gratuitous Games': 3, 'KnowWonder': 3, 'Loose Cannon Studios': 3, 'TOYBOX': 3, 'GenePool': 3, 'Adrenium': 3, 'Suzak': 3, 'Rage Software': 3, 'Monumental Games': 3, 'NanaOn-Sha': 3, 'Petroglyph': 3, 'Psyonix': 3, '8ing/Raizing': 3, 'Ubisoft Reflections, Ivory Tower': 3, 'Marvelous AQL': 3, 'Turtle Rock Studios': 3, 'Novarama': 3, 'Trickstar Games': 3, 'Magenta Software': 3, 'Lucky Chicken': 3, 'Kemco': 3, 'Dreamcatcher': 3, 'Nadeo': 3, 'Monte Cristo Multimedia': 3, 'Creatures Inc.': 3, 'id Software, Raven Software': 3, 'Shift': 3, 'Mercury Steam, Alchemic Productions': 3, 'TimeGate Studios': 3, 'SEGA Racing Studio': 3, 'City Interactive, Deck 13': 3, 'Red Storm Entertainment, Ubisoft Montreal': 3, 'Microvision': 3, 'Namco Bandai Games, Monkey Bar Games': 3, 'Deck 13': 3, 'IR Gurus': 3, 'Amuze': 3, 'Tango Gameworks': 3, 'Idea Factory, Compile Heart': 3, 'Flight-Plan': 3, 'Indie Built': 3, 'Overworks': 3, 'CAProduction': 3, 'Kylotonn': 3, 'Ascaron Entertainment GmbH, Ascaron Entertainment': 3, 'Blue Shift': 3, 'Titus Software': 3, 'Take-Two Interactive': 3, 'Kush Games, Visual Concepts': 3, 'Blitz Games Studios': 3, 'Neko Entertainment': 3, 'Black Ship Games': 3, 'Jester Interactive': 3, 'Gearbox Software, 3D Realms': 3, 'Hit Maker': 3, 'Cing': 3, 'EA Sports, EA Vancouver': 3, 'EA Sports Big': 3, 'Sledgehammer Games': 3, 'Artech Studios': 3, '2K Australia': 3, 'Nintendo, Nintendo Software Technology': 3, 'Cauldron Ltd.': 3, 'Attention To Detail': 3, 'Hangar 13': 3, 'Yacht Club Games': 3, 'Examu': 3, 'Renegade Kid': 3, 'Ambrella': 3, 'Barnhouse Effect': 3, 'Deep Silver Dambuster Studios': 3, 'Darkworks': 3, 'Coyote Developments': 3, 'Collision Studios': 3, 'SCE Studio Cambridge': 3, 'Blade Interactive': 3, 'Aspect': 3, 'Genius Sonority Inc.': 3, 'EA Canada, Nihilistic': 3, 'Hudson Entertainment': 3, 'Danger Close': 3, 'Cat Daddy Games': 3, 'Data Design Interactive': 3, 'WideScreen Games': 3, 'Cyanide, Cyanide Studios': 3, 'Infinity Ward, Sledgehammer Games': 3, 'Eden': 3, 'Artdink': 3, 'Cyberlore Studios': 3, 'Melbourne House': 3, 'Eugen Systems': 3, 'Ratbag': 3, 'Pocketeers': 3, 'Spicy Horse': 3, 'SCEJ': 3, 'The Behemoth': 2, 'Re-Logic': 2, '1C: Maddox Games': 2, 'Wargaming.net': 2, 'Rocksteady Studios, Virtuos': 2, 'Seta Corporation': 2, 'Neon Studios, Kaiko': 2, 'Bungie': 2, 'Paradox Development Studio': 2, 'Omega Force, Koei Tecmo Games': 2, 'Hypnotix': 2, 'Irrational Games, 2K Marin': 2, 'Andamiro U.S.A. Corp.': 2, 'Isopod Labs': 2, 'Blizzard North': 2, 'Coresoft': 2, 'Bullfrog Productions': 2, 'Gaijin Games': 2, 'SCE/WWS, Media Molecule': 2, 'Project Soul': 2, 'Guerilla Cambridge': 2, 'Milestone, Milestone S.r.l': 2, 'Team Ninja, Tecmo': 2, 'Bandai Namco Games, Artdink': 2, 'Pipe Dream Interactive': 2, 'Hothouse Creations': 2, 'K2': 2, 'G-Artists': 2, 'Electronic Arts, Rebellion': 2, 'Mucky Foot Productions': 2, 'Epics': 2, 'Junction Point': 2, 'Nintendo EAD Tokyo': 2, 'DMA Design': 2, 'Spark Unlimited, comcept': 2, 'David A. Palmer Productions': 2, 'CI Games': 2, 'Harmonix Music Systems, Demiurge Studios': 2, 'Mitchell': 2, 'Lost Toys': 2, 'Top Heavy Studios': 2, 'RED Entertainment': 2, 'Warner Bros. Interactive Entertainment, NetherRealm Studios': 2, '505 Games': 2, 'WB Games Montreal': 2, 'Micro Cabin': 2, 'Panic Button': 2, 'Climax Entertainment': 2, 'Terminal Reality, 4mm Games': 2, 'Spellbound': 2, 'Pendulo Studios': 2, 'Nautilus': 2, 'Million': 2, 'Vivarium': 2, 'Square Enix, Tri-Ace': 2, 'Locomotive Games': 2, 'Majesco Games, Majesco': 2, 'Noise Inc.': 2, 'Santa Cruz Games': 2, 'Black Hole Games': 2, 'Destination Software': 2, 'Colossal Order': 2, 'Q-Games': 2, 'syn Sophia': 2, 'Buzz Monkey': 2, 'THQ Digital Studio Phoenix': 2, 'Dice, Danger Close': 2, 'Mistic Software': 2, 'JGI Entertainment': 2, 'Nitro Games': 2, 'Eutechnyx, Deep Silver': 2, 'Computer Artworks': 2, 'EKO Software': 2, 'Savage Entertainment': 2, 'Tilted Mill': 2, 'EA Vancouver': 2, 'ZootFly': 2, 'Monkey Bar Games': 2, 'Ubisoft Paris, Ubisoft Montpellier': 2, 'Inevitable Entertainment': 2, 'EA Seattle': 2, 'Starsphere Interactive': 2, 'Longtail Studios': 2, 'EA Canada, EA Vancouver': 2, 'Taito Corporation, 505 Games': 2, 'Zono Inc.': 2, 'T&E Soft': 2, 'ITL': 2, 'GungHo': 2, 'Quicksilver Software': 2, 'Acclaim Studios Manchester': 2, 'Metro': 2, 'Takara': 2, 'Mistwalker, Artoon': 2, 'UGA': 2, 'Other Ocean Interactive': 2, 'Ubisoft Milan': 2, 'Magellan Interactive': 2, 'Orbital Media, Inc.': 2, '49Games': 2, 'FASA Studio': 2, 'LucasArts, Krome Studios': 2, 'Brownie Brown': 2, 'Midway Studios - Los Angeles': 2, 'Midway Studios - San Diego': 2, 'Mad Doc Software, Rockstar Vancouver': 2, 'Armature Studio': 2, '3G Studios': 2, 'System 3': 2, 'PopTop Software': 2, 'Volatile Games': 2, 'Tripwire Interactive': 2, 'Phantagram': 2, 'Akella': 2, 'Steel Monkeys': 2, 'Playground Games': 2, 'Red Storm Entertainment, Ubisoft Paris': 2, 'Seven45 Studios': 2, 'EA Sports, EA Canada': 2, 'VSTEP': 2, 'Ubisoft Bulgaria': 2, 'Kojima Productions, Moby Dick Studio': 2, 'FrontLine Studios': 2, 'Dreamworks Interactive': 2, 'CiRCLE': 2, 'Broadsword Interactive': 2, 'Sony Interactive Entertainment': 2, 'Dimps Corporation, Namco Bandai Games': 2, '1C, 1C Company': 2, 'The Fun Pimps Entertainment LLC': 2, 'Best Way': 2, 'Immersion Software & Graphics': 2, 'Zoe Mode, HB Studios Multimedia': 2, 'Naps Team': 2, 'Blue Omega': 2, 'S-Neo': 2, 'Career Soft': 2, 'Blue Byte, Related Designs': 2, 'Ritual Entertainment, Avalanche Software': 2, 'Ascaron Entertainment GmbH': 2, 'Idol Minds': 2, 'Studio Saizensen': 2, 'Pocket Studios': 2, 'Humongous Entertainment': 2, 'Razorworks Studios': 2, 'THQ Australia': 2, 'Rovio Mobile, Rovio Entertainment': 2, 'Disney Interactive': 2, '10tacle Studios, Fusionsphere Systems': 2, 'People Can Fly': 2, 'Metanet Software Inc., SilverBirch Studios': 2, 'Black Sea Studios': 2, 'Funatics Software, Funatics': 2, 'Fox Interactive': 2, 'Artefacts Studio': 2, 'Factor 5': 2, 'Sega Studios San Francisco': 2, 'Coyote Console': 2, 'Destineer': 2, 'Atomic Motion': 2, '1st Playable Productions': 2, 'Studio 33': 2, 'Big Blue Bubble Inc.': 2, 'Team Bondi': 2, 'Psygnosis': 2, 'SunSoft': 2, 'Shift, Bandai Namco Games': 2, 'CCP': 2, 'Moss': 2, 'Pitbull Syndicate': 2, 'Victor Interactive Software': 2, 'Cattle Call': 2, 'Pyramid': 2, 'SuperMassive Games': 2, 'Silicon Studio': 2, 'Visual Impact': 2, 'Big Sky Software': 2, 'Spike Chunsoft, Chime': 2, 'Prope, Kadokawa': 2, 'ZeniMax Media': 2, 'MTO': 2, 'NaturalMotion': 2, 'Spike, Namco Bandai Games': 2, 'SuperVillain Studios': 2, 'Guildford Studio': 2, 'Cooking Mama Limited': 2, 'Liquid Entertainment': 2, 'SCEA Sports Studio': 2, 'KCEO': 2, 'CyberConnect2, Racjin': 2, 'Egosoft': 2, 'AQ Interactive': 2, 'Bullets': 2, 'Nerve Software': 2, 'Helixe': 2, 'WXP': 2, 'Keen Games': 2, 'Kung Fu Factory': 2, 'M2': 2, 'Interplay': 2, 'Bongfish': 2, 'Vanilla Ware': 2, 'Digital Anvil': 2, 'Incinerator Games': 2, 'Frozenbyte, Inc.': 2, 'ValuSoft': 2, 'Sega, Sonic Team': 2, 'Mad Catz': 2, 'Hoplite Research': 2, 'Kunos Simulazioni': 2, 'Platinum Egg': 2, 'Playlogic, The Game Factory': 2, 'Aspyr': 2, 'Mix Max': 2, 'Koei/Inis': 2, 'Arkedo Studio': 2, 'Team 17, Two Tribes': 2, 'Capcom, QLOC': 2, 'Fuse Games Limited': 2, 'Capcom, Pipeworks Software, Inc.': 2, '2XL Games': 2, 'Kuusou Kagaku': 2, 'Beyond Games': 2, 'Studio Gigante': 2, 'The Game Factory': 2, \"Swingin' Ape\": 2, 'WBIE': 2, 'Epicenter Studios': 2, 'Outrage Games': 2, 'Fatshark AB': 2, 'Cranky Pants Games': 2, 'ProSoft': 1, 'HAL Labs, Creatures Inc.': 1, 'HexaDrive': 1, 'Brainbox Games': 1, 'Virtual Air Guitar Company': 1, 'Red Zone Entertainment': 1, 'Rising Star Games': 1, 'Graphic State': 1, 'Elixir Studios': 1, 'Tarsier Studios, Double Eleven': 1, 'Metro3D': 1, \"Crispy's\": 1, 'Max Five': 1, 'TDK Mediactive': 1, 'Mistwalker': 1, 'Blue Tongue': 1, 'ThatGameCompany': 1, 'Circus Freak': 1, 'Cunning Developments': 1, 'Buena Vista Games': 1, 'Alpha Unit': 1, 'Sun-Tec': 1, 'Io Interactive, Nixxes Software': 1, 'Volition Inc., CD Projekt Red Studio, CD Projekt, CD Projekt Localisation Centre': 1, 'Digital Leisure Inc.': 1, 'Rockstar Vancouver': 1, 'Foundation 9 Entertainment': 1, 'Next Entertainment': 1, 'Kamui': 1, 'IR Gurus Interactive Ltd.': 1, 'PLAYGROUND, Playground Games': 1, 'Smack Down Productions': 1, 'TimeGate Studios, Day 1 Studios': 1, 'Doki Denki': 1, 'Camouflaj, LLC': 1, 'Tantalus Interactive, Tantatus, Nintendo': 1, 'Artificial Mind and Movement, EA Redwood Shores': 1, 'Activision, Behaviour Interactive': 1, 'Neversoft Entertainment, Underground Development': 1, 'Dreamworks Games': 1, 'Cinemaware': 1, 'PuzzleKings': 1, 'Crawfish Interactive': 1, 'Realmforge Studios': 1, 'Spike Chunsoft Co. Ltd., Spike Chunsoft': 1, 'Big Red Button Entertainment': 1, 'AI': 1, 'Cyan Worlds': 1, 'Taniko': 1, 'Oxygen Interactive': 1, 'JV Games Inc.': 1, 'Toka': 1, 'Animation Arts': 1, 'Eagle Dynamics': 1, 'D3Publisher': 1, 'Climax Studios': 1, 'Amaze': 1, 'Deep Silver, Sproing Interactive Media, Sproing': 1, 'Lightning Fish Games': 1, 'Harmonix Music Systems, Backbone Entertainment': 1, 'War Drum Studios': 1, 'Certain Affinity': 1, 'Punchline, Shirogumi': 1, 'EA Japan Studio': 1, 'Flying Tiger Development': 1, 'Big Red Software': 1, '2015': 1, 'Arcade Moon': 1, 'Reloaded Productions, Reloaded Games Inc.': 1, 'Goshow': 1, 'Enterbrain': 1, 'Phoenix Games Studio': 1, 'Inland Productions': 1, 'Sega, Dimps Corporation': 1, 'King of the Jungle': 1, 'Runic Games': 1, 'Related Designs': 1, 'neo Software': 1, 'Rockstar Toronto, Rockstar Leeds': 1, 'EA Mythic': 1, 'Opus Studio': 1, 'Gearbox Software, WayForward': 1, 'Lab Rats Games': 1, 'Game Republic, JapanStudio': 1, 'Vicious Cycle, Infinite Interactive': 1, 'Cosmigo': 1, 'Mekensleep': 1, 'Human Soft': 1, 'EA Canada, Sensory Sweep': 1, 'Sunrise Interactive': 1, 'Raylight Studios': 1, 'Phosphor Games Studio, LLC': 1, 'Agenda': 1, 'Omega Force, Tecmo Koei Games': 1, 'Secret Stash Games': 1, 'Nintendo, Namco Bandai Games': 1, 'Armature Studio, comcept': 1, 'Flagship, HAL Labs': 1, 'Pterodon': 1, 'Westwood Studios': 1, 'Eighting, Takara Tomy': 1, 'Factor 5, SCE/WWS': 1, 'Fusionsphere Systems': 1, 'NoWay Studio': 1, 'Compulsion Games': 1, 'Interchannel': 1, 'Skyworks Technologies': 1, 'Zener Works': 1, 'Pinegrow': 1, 'EA Phenomic': 1, 'Interactive Brains': 1, 'Dimps Corporation, SCE Japan Studio': 1, 'OfficeCreate': 1, 'Gaslamp Games': 1, 'Twisted Pixel Games': 1, 'Carbine Studios': 1, 'Syscom': 1, 'RED Entertainment, Spike Chunsoft': 1, 'Bluehole Studio': 1, 'Aqua Pacific, In2Games': 1, 'System Prisma': 1, 'Flagship': 1, 'HotGen': 1, 'Dearsoft': 1, '369 Interactive': 1, 'MileStone Inc.': 1, 'Boxed Dream': 1, 'Autumn Moon': 1, 'Nuevo Retro Games': 1, 'Introversion, Double Eleven': 1, 'Magic Rings': 1, 'Examu, Marvelous Inc.': 1, 'Powerhead Games': 1, 'Razorworks': 1, 'Ronin Entertainment': 1, 'Office Create': 1, 'Lucas Learning': 1, 'Ubisoft Sofia': 1, 'K2, Kurogane': 1, 'Sega, French-Bread': 1, 'Snap Dragon Games': 1, 'Playstos Entertainment': 1, 'Strangelite': 1, 'The Tangentlemen': 1, '5000ft': 1, 'Kodiak Interactive': 1, 'Atomic Planet Entertainment, Mud Duck Productions': 1, 'Omiya Soft, Jamsworks': 1, 'Disney Interactive Studios': 1, 'Iridon Interactive AB': 1, 'Jupiter Corporation, Jupiter Multimedia': 1, 'Wildfire Studios': 1, 'Blue Fang Games': 1, 'Curly Monsters': 1, 'Software Creations': 1, 'ApolloSoft': 1, 'Netherock Ltd.': 1, 'Nintendo, Spike Chunsoft': 1, 'Naughty Dog, Sony Bend': 1, 'Psikyo': 1, '1C:Ino-Co': 1, 'Tose Software': 1, 'Art Co., Ltd.': 1, 'Tecmo, Graphic Research': 1, 'Atari, Transmission Games, Atari SA': 1, 'Kronos Digital Entertainment': 1, 'SystemSoft': 1, 'Nightlight Studios': 1, 'Atomic Games': 1, 'High Voltage Software, Ubisoft Paris': 1, 'Housemarque': 1, 'Good Science Studio': 1, 'Krome Studios, Screenlife Games': 1, 'Replay Studios, ML Enterprises': 1, 'Enlight Software': 1, 'Infogrames': 1, 'Touchdown Entertainment': 1, 'Warner Bros. Interactive Entertainment': 1, 'Leviathan Games': 1, 'Telenet': 1, 'Nintendo, Intelligent Systems': 1, 'Zindagi Games': 1, 'Digital Fiction': 1, '2D Boy': 1, 'Sony Online Entertainment, Mind Control Software': 1, 'SCE Japan Studio, comcept': 1, 'Tetris Online, Inc': 1, 'Buddiez, Inc.': 1, 'Neon Studios': 1, 'Hello Games': 1, 'Raster': 1, 'Blue Planet Software': 1, 'Bright Future GmbH': 1, 'Nicalis': 1, \"THQ, Yuke's\": 1, 'SCEA, Sims': 1, 'IronNos Co.,Ltd.': 1, 'Nfusion': 1, 'Gusto Games': 1, 'ImaginEngine': 1, 'EA Redwood Shores, EA Salt Lake': 1, 'Valhalla Game Studios': 1, 'MASA Group': 1, 'G1M2': 1, 'Prokion': 1, 'Edge Entertainment, Anima Project': 1, 'Runtime': 1, 'Targem Games': 1, 'SNK': 1, 'Buena Vista Interactive': 1, 'Arrowhead Game Studios': 1, 'Good-Feel': 1, 'High Moon Studios, Mercenary Technologies': 1, 'Imagineer': 1, 'Flagship Studios': 1, 'DMA Design, Rockstar North': 1, 'GREZZO': 1, 'odenis studio': 1, 'Ntreev Soft': 1, 'Noise Factory': 1, 'Tranji': 1, 'Ninja Studio': 1, 'Prolific': 1, 'Human Entertainment': 1, 'Buka Entertainment, Targem Games': 1, 'Idol FX': 1, 'Headfirst Productions': 1, 'Direct Action Games': 1, 'Namco Bandai Games America': 1, 'Tamsoft, D3Publisher': 1, 'Zoo Games': 1, 'Contraband Entertainment': 1, '1C, Ino-Co, 1C Company': 1, 'Retro Studios, Entertainment Analysis & Development Division': 1, 'Simon & Schuster': 1, \"Activision, Traveller's Tales\": 1, 'Cryptic Studios': 1, 'GCP1': 1, 'Global A': 1, 'Toolbox Design': 1, 'LucasArts, Red Fly Studio': 1, 'Wizarbox': 1, 'Velez & Dubail': 1, 'Infinite Dreams, Paragon 5': 1, 'Icon Games': 1, 'Headgate': 1, 'Nintendo, Camelot Software Planning': 1, 'Dusenberry Martin Racing': 1, 'Full-Fat': 1, 'TopWare Interactive': 1, 'Milestone': 1, 'Stalker Entertainment': 1, 'Maximum Games': 1, 'Square Enix, Think and Feel': 1, 'Big Blue Bubble Inc., Breakthrough New Media': 1, 'Osiris Studios': 1, 'BottleRocket Entertainment': 1, 'Silver Wish Games': 1, 'Game Arts, Japan Art Media (JAM)': 1, 'Crafts & Meister': 1, 'Teyon': 1, 'Bunkasha Publishing': 1, 'Fluid Studios': 1, 'JoWooD Entertainment AG': 1, 'Tate Interactive': 1, 'Felistella': 1, 'Opus, Project Sora': 1, 'Zombie': 1, 'Empire Interactive': 1, 'Ubisoft, FunHouse': 1, 'THQ, 1C, 1C Company': 1, 'DiP Interactive': 1, 'SoftMax': 1, 'Sunflowers Interactive': 1, 'Backbone Emeryville': 1, 'Rocksteady Studios, Iron Galaxy Studios': 1, 'Crea-Tech': 1, 'React Games': 1, 'Blue 52': 1, 'Ready at Dawn, SCE Santa Monica': 1, 'Ubisoft Annecy': 1, 'Atlus, Dingo Inc.': 1, 'Southend Interactive': 1, 'Ironclad Games': 1, 'Eighting, Genius Sonority Inc.': 1, 'Empty Clip Studios': 1, 'Awesome Play Ltd.': 1, 'Battlefront.com, 1C, 1C Company': 1, 'Fusionsphere Systems, Animation Arts': 1, 'KCEK': 1, 'Master Creating': 1, 'Shade': 1, 'Deep Space': 1, 'BigPark': 1, 'Inti, Inti Creates': 1, 'Rockstar Vienna': 1, 'id Software, Nerve Software': 1, 'Nvizzio Creations': 1, 'Killaware': 1, 'Trendy Entertainment': 1, 'Artificial Mind and Movement, Polygon Magic': 1, 'Blueside': 1, 'Santa Entertainment': 1, 'InterServ International': 1, 'Zoom': 1, 'Treyarch, Sledgehammer Games': 1, 'Boston Animation': 1, 'Media Molecule, United Front Games': 1, 'BeeWorks': 1, 'Super Empire': 1, 'Activision Value': 1, 'Gaia (Sony)': 1, 'Hypnos': 1, 'Zen Studios': 1, 'Chris Sawyer': 1, 'Artificial Studios, Immersion Software & Graphics': 1, 'Mediascape, CUBETYPE': 1, 'Vanguard': 1, 'Atari, Slightly Mad Studios, Atari SA': 1, 'Dimps Corporation, Sonic Team': 1, 'I-Imagine': 1, 'Lancarse, Atlus': 1, 'ECI': 1, 'Bionic Games': 1, 'Wicked Witch Software': 1, 'Check Six Games': 1, 'Rebellion, Neversoft Entertainment': 1, 'Namco Bandai Games, Cellius': 1, '3d6 Games': 1, 'Naughty Dog, SCE/WWS': 1, 'Nintendo, Headstrong Games': 1, 'Sonnori': 1, 'Neversoft Entertainment, BudCat': 1, 'Synetic': 1, 'Sega, Tom Create': 1, 'SCE/WWS, SCE Japan Studio': 1, '8Monkey Labs': 1, 'Square Enix, h.a.n.d. Inc.': 1, 'Lead Pursuit': 1, 'WorkJam': 1, 'Realism Ltd': 1, 'Arzest': 1, 'GlyphX Games': 1, 'Splash Damage, The Coalition': 1, 'Runecraft': 1, 'Metro Graphics': 1, 'Studio Archcraft': 1, 'Ubisoft Barcelona': 1, 'Turbine Inc.': 1, 'VU Games': 1, 'Codo Games': 1, 'Gameinvest, Seed Studios, Lda': 1, 'Nikitova Games': 1, 'Spidersoft, Spiders': 1, 'Sanzaru Games, Sanzaru Games, Inc.': 1, 'The Coalition': 1, 'GameCo': 1, 'G.Rev': 1, 'Viva Media, Viva Media, LLC': 1, 'Eurocom Entertainment Software, Visceral Games': 1, 'Vogster': 1, 'SuperBot Entertainment': 1, 'Just Add Monsters': 1, 'BattleGoat Studios': 1, 'Coffee Stain Studios': 1, 'Hypnos Entertainment': 1, 'Number None Inc., Knockout Games': 1, 'Tenky': 1, 'Brain Toys': 1, 'Screenlife Games, WXP': 1, 'Next Level Games, Nintendo': 1, 'Mobius Entertainment': 1, 'Sacnoth': 1, 'Pentavision Entertainment': 1, 'LDW, Big Fish Games': 1, 'Equinoxe': 1, 'Box Clever Interactive': 1, 'Multimedia Intelligence Transfer': 1, 'Daedalic Entertainment': 1, 'Digital Extremes, 2K Marin': 1, 'Vivendi Games': 1, 'Game Arts, Seta Corporation': 1, 'Ubisoft, Sensory Sweep': 1, 'Gameness Art Software': 1, 'Big Blue Box': 1, 'Venan Entertainment, Cashmere Prod.': 1, 'Ubisoft Shanghai/Paris': 1, 'Hot Lava Games': 1, 'Deep Silver, Keen Games': 1, 'Skip Ltd.': 1, 'Frogwares, Mistic Software': 1, 'Games Farm': 1, 'LightBox Interactive': 1, 'Activision, FreeStyleGames': 1, 'Doublesix': 1, 'Sabertooth Games': 1, 'Pax Softonica': 1, 'SCi': 1, 'Rhino Studios': 1, 'Tantatus': 1, 'Tecmo Koei Canada': 1, 'Rare Ltd., BigPark': 1, 'SCEE, Zoe Mode': 1, 'Indi': 1, 'Roxor Games': 1, 'Stainless Steel Studios': 1, 'Entersphere, Inc.': 1, 'Sennari Interactive': 1, 'Machatin, Inc.': 1, 'EA Tiburon, n-Space': 1, 'Magic Pixel Games': 1, 'NATSUME ATARI Inc.': 1, 'Square Enix, TOSE': 1, 'Vicarious Visions, Neversoft Entertainment': 1, 'Zed Two Limited': 1, 'Quest': 1, 'Tecmo, Ntreev Soft': 1, 'Omega Force, Koei Canada': 1, 'Blueshift': 1, 'Game Titan': 1, 'Iron Lore Entertainment': 1, 'SEK Ost': 1, 'Ambrella, The Pokemon Company': 1, 'New': 1, 'Volition Inc., Reactor Zero': 1, 'EnjoyUp Games': 1, 'InLight Entertainment': 1, 'Tecmo Koei Games': 1, 'Infogrames Sheffield': 1, 'Inferno Games': 1, 'Electronic Arts, EA Redwood Shores': 1, 'Microsoft Game Studios Japan': 1, 'Eidos Montreal, Nixxes Software': 1, 'Premium Agency': 1, 'Konami Software Shanghai': 1, 'Nival Interactive': 1, 'Visual Sciences': 1, 'Prograph': 1, 'Ruffian Games': 1, 'Brash Entertainment': 1, 'Presto Studios': 1, 'Mindware Studios': 1, 'Awesome Studios': 1, 'SCEA, Think and Feel': 1, 'Level 5, Brownie Brown': 1, 'Deep Fried Entertainment': 1, 'Vatra': 1, 'Sega AM3': 1, 'Legacy Interactive': 1, 'zSlide': 1, 'Gulti': 1, 'Pacific Century Cyber Works': 1, 'Cohort Studios': 1, 'NEC Interchannel': 1, 'Ubisoft Barcelona, Ubisoft Reflections': 1, 'SouthPeak Games': 1, 'Flying Lab Software': 1, 'Gorilla Systems': 1, 'Kheops Studio': 1, 'Tiwak': 1, 'Delphine Software International': 1, 'EA DICE, Danger Close': 1, 'RFX Interactive': 1, 'Beluga Computer': 1, 'Compile Heart, GCREST': 1, 'Tomy Corporation': 1, 'Coldwood Interactive': 1, 'Black Lantern Studios': 1, 'Monolith Soft, Namco Bandai Games': 1, 'Liquid Dragon Studios': 1, 'Digital Embryo': 1, 'RED Entertainment, Artdink': 1, 'Ubisoft Osaka': 1, 'Alphadream Corporation': 1, 'Buzz Monkey, EA Montreal': 1, 'Bam Entertainment': 1, 'SkyRiver Studios': 1, 'Deep Red': 1, 'The Code Monkeys': 1, 'The Workshop': 1, 'Team Soho': 1, 'Media Vision, Contrail': 1, 'Hijinx Studios': 1, 'Transmission Games': 1, 'Matrix Software, Marvelous Entertainment': 1, 'Halfbrick Studios': 1, 'Nitro+': 1, 'Banpresto, SoftMax': 1, 'Metropolis Software': 1, 'Big Time Software': 1, 'Gust, Idea Factory': 1, 'LucasArts, BioWare': 1, 'SScholastic Media': 1, 'Frima Studio': 1, 'Babylon Software': 1, 'Happy Happening': 1, 'SCEA, Zindagi Games': 1, 'Realtime Worlds': 1, 'Sonic Powered': 1, 'Panther Software': 1, 'Nippon Ichi Software, Hit Maker': 1, 'Confounding Factor': 1, 'Beep Industries': 1, 'Katauri Interactive': 1, 'Monolith Soft, Banpresto': 1, 'Aqua Plus': 1, 'BioWare, Demiurge Studios': 1, 'DreamRift': 1, 'KING Art': 1}\n"
     ]
    }
   ],
   "source": [
    "Developers_list = dict(df['Developer'].value_counts())\n",
    "\n",
    "print(Developers_list)"
   ]
  },
  {
   "cell_type": "code",
   "execution_count": 71,
   "id": "db332b03",
   "metadata": {},
   "outputs": [
    {
     "data": {
      "text/html": [
       "<div>\n",
       "<style scoped>\n",
       "    .dataframe tbody tr th:only-of-type {\n",
       "        vertical-align: middle;\n",
       "    }\n",
       "\n",
       "    .dataframe tbody tr th {\n",
       "        vertical-align: top;\n",
       "    }\n",
       "\n",
       "    .dataframe thead th {\n",
       "        text-align: right;\n",
       "    }\n",
       "</style>\n",
       "<table border=\"1\" class=\"dataframe\">\n",
       "  <thead>\n",
       "    <tr style=\"text-align: right;\">\n",
       "      <th></th>\n",
       "      <th>Name</th>\n",
       "      <th>Platform</th>\n",
       "      <th>Year_of_Release</th>\n",
       "      <th>Genre</th>\n",
       "      <th>Publisher</th>\n",
       "      <th>NA_Sales</th>\n",
       "      <th>EU_Sales</th>\n",
       "      <th>JP_Sales</th>\n",
       "      <th>Other_Sales</th>\n",
       "      <th>Critic_Score</th>\n",
       "      <th>Critic_Count</th>\n",
       "      <th>User_Score</th>\n",
       "      <th>User_Count</th>\n",
       "      <th>Developer</th>\n",
       "      <th>Rating</th>\n",
       "      <th>platform_new</th>\n",
       "      <th>Developer_new</th>\n",
       "    </tr>\n",
       "  </thead>\n",
       "  <tbody>\n",
       "    <tr>\n",
       "      <th>0</th>\n",
       "      <td>Wii Sports</td>\n",
       "      <td>Wii</td>\n",
       "      <td>2006.0</td>\n",
       "      <td>Sports</td>\n",
       "      <td>Nintendo</td>\n",
       "      <td>41.36</td>\n",
       "      <td>28.96</td>\n",
       "      <td>3.77</td>\n",
       "      <td>8.45</td>\n",
       "      <td>76.0</td>\n",
       "      <td>51.0</td>\n",
       "      <td>8</td>\n",
       "      <td>322.0</td>\n",
       "      <td>Nintendo</td>\n",
       "      <td>E</td>\n",
       "      <td>other_console</td>\n",
       "      <td>other_dev</td>\n",
       "    </tr>\n",
       "  </tbody>\n",
       "</table>\n",
       "</div>"
      ],
      "text/plain": [
       "         Name Platform  Year_of_Release   Genre Publisher  NA_Sales  EU_Sales  \\\n",
       "0  Wii Sports      Wii           2006.0  Sports  Nintendo     41.36     28.96   \n",
       "\n",
       "   JP_Sales  Other_Sales  Critic_Score  Critic_Count User_Score  User_Count  \\\n",
       "0      3.77         8.45          76.0          51.0          8       322.0   \n",
       "\n",
       "  Developer Rating   platform_new Developer_new  \n",
       "0  Nintendo      E  other_console     other_dev  "
      ]
     },
     "execution_count": 71,
     "metadata": {},
     "output_type": "execute_result"
    }
   ],
   "source": [
    "def developer(x):\n",
    "  if x.find('EA') >= 0 or x.find('Electronic Arts') >= 0:\n",
    "    return 'EA'\n",
    "  elif x.find('Capcom') >= 0:\n",
    "    return 'Capcom'\n",
    "  elif x.find('Ubisoft') >= 0:\n",
    "    return 'Ubisoft'\n",
    "  elif x.find('Konami') >= 0:\n",
    "    return 'Komani'\n",
    "  elif x.find('Nitendo') >= 0:\n",
    "    return 'Nitendo'\n",
    "  else:\n",
    "    return 'other_dev'\n",
    "\n",
    "\n",
    "df['Developer_new'] = df['Developer'].map(developer)\n",
    "\n",
    "df.head(1)"
   ]
  },
  {
   "cell_type": "code",
   "execution_count": 72,
   "id": "d9ae45a1",
   "metadata": {},
   "outputs": [
    {
     "data": {
      "text/plain": [
       "T       2420\n",
       "E       2118\n",
       "M       1459\n",
       "E10+     946\n",
       "RP         2\n",
       "AO         1\n",
       "K-A        1\n",
       "Name: Rating, dtype: int64"
      ]
     },
     "execution_count": 72,
     "metadata": {},
     "output_type": "execute_result"
    }
   ],
   "source": [
    "df['Rating'].value_counts()"
   ]
  },
  {
   "cell_type": "code",
   "execution_count": 73,
   "id": "63c1055b",
   "metadata": {},
   "outputs": [
    {
     "data": {
      "text/html": [
       "<div>\n",
       "<style scoped>\n",
       "    .dataframe tbody tr th:only-of-type {\n",
       "        vertical-align: middle;\n",
       "    }\n",
       "\n",
       "    .dataframe tbody tr th {\n",
       "        vertical-align: top;\n",
       "    }\n",
       "\n",
       "    .dataframe thead th {\n",
       "        text-align: right;\n",
       "    }\n",
       "</style>\n",
       "<table border=\"1\" class=\"dataframe\">\n",
       "  <thead>\n",
       "    <tr style=\"text-align: right;\">\n",
       "      <th></th>\n",
       "      <th>Name</th>\n",
       "      <th>Platform</th>\n",
       "      <th>Year_of_Release</th>\n",
       "      <th>Genre</th>\n",
       "      <th>Publisher</th>\n",
       "      <th>NA_Sales</th>\n",
       "      <th>EU_Sales</th>\n",
       "      <th>JP_Sales</th>\n",
       "      <th>Other_Sales</th>\n",
       "      <th>Critic_Score</th>\n",
       "      <th>Critic_Count</th>\n",
       "      <th>User_Score</th>\n",
       "      <th>User_Count</th>\n",
       "      <th>Developer</th>\n",
       "      <th>Rating</th>\n",
       "      <th>platform_new</th>\n",
       "      <th>Developer_new</th>\n",
       "      <th>Rating_new</th>\n",
       "    </tr>\n",
       "  </thead>\n",
       "  <tbody>\n",
       "    <tr>\n",
       "      <th>0</th>\n",
       "      <td>Wii Sports</td>\n",
       "      <td>Wii</td>\n",
       "      <td>2006.0</td>\n",
       "      <td>Sports</td>\n",
       "      <td>Nintendo</td>\n",
       "      <td>41.36</td>\n",
       "      <td>28.96</td>\n",
       "      <td>3.77</td>\n",
       "      <td>8.45</td>\n",
       "      <td>76.0</td>\n",
       "      <td>51.0</td>\n",
       "      <td>8</td>\n",
       "      <td>322.0</td>\n",
       "      <td>Nintendo</td>\n",
       "      <td>E</td>\n",
       "      <td>other_console</td>\n",
       "      <td>other_dev</td>\n",
       "      <td>E</td>\n",
       "    </tr>\n",
       "  </tbody>\n",
       "</table>\n",
       "</div>"
      ],
      "text/plain": [
       "         Name Platform  Year_of_Release   Genre Publisher  NA_Sales  EU_Sales  \\\n",
       "0  Wii Sports      Wii           2006.0  Sports  Nintendo     41.36     28.96   \n",
       "\n",
       "   JP_Sales  Other_Sales  Critic_Score  Critic_Count User_Score  User_Count  \\\n",
       "0      3.77         8.45          76.0          51.0          8       322.0   \n",
       "\n",
       "  Developer Rating   platform_new Developer_new Rating_new  \n",
       "0  Nintendo      E  other_console     other_dev          E  "
      ]
     },
     "execution_count": 73,
     "metadata": {},
     "output_type": "execute_result"
    }
   ],
   "source": [
    "def rating(x):\n",
    "  if x == 'T':\n",
    "    return 'T'\n",
    "  elif x == 'E':\n",
    "    return 'E'\n",
    "  elif x == 'M':\n",
    "    return 'M'\n",
    "  elif x == 'E10+':\n",
    "    return 'E10+'\n",
    "  else:\n",
    "    return 'other_rating'\n",
    "\n",
    "df['Rating_new'] = df['Rating'].map(rating)\n",
    "df.head(1)"
   ]
  },
  {
   "cell_type": "code",
   "execution_count": 74,
   "id": "4c76cc44",
   "metadata": {},
   "outputs": [
    {
     "name": "stdout",
     "output_type": "stream",
     "text": [
      "{'Electronic Arts': 960, 'Activision': 498, 'Ubisoft': 498, 'Sony Computer Entertainment': 316, 'THQ': 309, 'Nintendo': 292, 'Sega': 288, 'Take-Two Interactive': 274, 'Konami Digital Entertainment': 248, 'Namco Bandai Games': 241, 'Capcom': 200, 'Atari': 179, 'Microsoft Game Studios': 141, 'Warner Bros. Interactive Entertainment': 139, 'Tecmo Koei': 137, 'Square Enix': 135, 'Eidos Interactive': 125, 'Vivendi Games': 116, 'Codemasters': 113, 'Midway Games': 105, '505 Games': 80, 'Deep Silver': 77, 'Disney Interactive Studios': 75, 'LucasArts': 71, 'Unknown': 67, 'Acclaim Entertainment': 66, 'Nippon Ichi Software': 61, 'Rising Star Games': 52, 'Bethesda Softworks': 48, 'D3Publisher': 36, 'Focus Home Interactive': 31, 'Ignition Entertainment': 30, 'Empire Interactive': 28, 'Atlus': 25, 'Kalypso Media': 24, 'Zoo Digital Publishing': 24, 'Majesco Entertainment': 23, 'PQube': 22, 'TDK Mediactive': 21, 'SouthPeak Games': 21, 'Global Star': 20, 'Universal Interactive': 19, 'Virgin Interactive': 19, 'MTV Games': 17, 'Infogrames': 15, '3DO': 15, 'Paradox Interactive': 13, 'Ubisoft Annecy': 12, 'DTP Entertainment': 12, 'SCi': 11, 'Crave Entertainment': 11, 'Sony Computer Entertainment Europe': 11, 'Playlogic Game Factory': 10, 'Ghostlight': 10, 'BAM! Entertainment': 10, 'Nordic Games': 10, 'JoWood Productions': 10, 'Marvelous Interactive': 9, 'Play It': 9, 'SquareSoft': 9, 'City Interactive': 8, 'Idea Factory': 8, 'Interplay': 8, 'Midas Interactive Entertainment': 8, 'Spike': 8, 'Metro 3D': 8, 'Black Bean Games': 8, 'Gathering of Developers': 8, 'Microids': 7, 'PopCap Games': 7, 'Kemco': 7, 'Sony Online Entertainment': 7, 'Jaleco': 7, 'Aksys Games': 6, 'GungHo': 6, 'Activision Value': 6, 'DreamCatcher Interactive': 6, 'Sting': 6, 'Destineer': 6, 'Success': 5, 'Koch Media': 5, 'Natsume': 5, 'From Software': 5, 'Game Factory': 5, 'NCSoft': 5, 'Titus': 5, 'Tomy Corporation': 4, 'Banpresto': 4, 'Evolved Games': 4, 'Marvelous Entertainment': 4, 'Takara Tomy': 4, 'Screenlife': 4, 'RedOctane': 4, 'Compile Heart': 4, 'Enix Corporation': 4, 'Hip Interactive': 4, 'Yacht Club Games': 4, 'Xseed Games': 4, 'Touchstone': 4, 'Arc System Works': 4, 'Bigben Interactive': 4, 'Telltale Games': 4, 'Sammy Corporation': 4, 'Milestone S.r.l': 4, 'Hudson Soft': 4, 'Milestone S.r.l.': 4, 'Gamecock': 4, 'Nobilis': 3, 'GT Interactive': 3, 'Insomniac Games': 3, 'Indie Games': 3, 'Slightly Mad Studios': 3, 'Trion Worlds': 3, 'Avalon Interactive': 3, 'Mastertronic': 3, 'Zoo Games': 3, 'Mastiff': 3, 'MC2 Entertainment': 3, 'Enterbrain': 3, 'Sony Computer Entertainment America': 3, 'Rage Software': 3, 'Brash Entertainment': 3, 'Psygnosis': 3, 'FuRyu': 3, 'Genki': 3, 'The Adventure Company': 3, 'Idea Factory International': 3, 'System 3 Arcade Software': 3, 'Little Orbit': 3, 'Taito': 3, 'Valve Software': 3, 'Falcom Corporation': 3, 'Wanadoo': 3, 'Destination Software, Inc': 3, 'Swing! Entertainment': 3, 'Rondomedia': 2, 'Agatsuma Entertainment': 2, 'Sold Out': 2, 'CCP': 2, 'Agetec': 2, 'XS Games': 2, 'AQ Interactive': 2, 'Tripwire Interactive': 2, 'Valcon Games': 2, 'Funcom': 2, 'Stainless Games': 2, 'Mad Catz': 2, 'Harmonix Music Systems': 2, 'Rebellion': 2, 'Gotham Games': 2, 'Tru Blu Entertainment': 2, 'NovaLogic': 2, 'Ascaron Entertainment GmbH': 2, 'Jester Interactive': 2, 'Gamebridge': 2, 'Human Entertainment': 2, 'Oxygen Interactive': 2, 'Irem Software Engineering': 2, 'Square Enix ': 2, 'Revolution Software': 2, 'Kadokawa Shoten': 2, 'Aspyr': 2, 'Xplosiv': 2, 'Gust': 2, 'Graffiti': 2, '1C Company': 2, 'Mindscape': 2, 'bitComposer Games': 2, 'Xicat Interactive': 1, 'Level 5': 1, 'Visco': 1, 'Blue Byte': 1, 'Navarre Corp': 1, 'Flashpoint Games': 1, 'HMH Interactive': 1, 'Funsta': 1, 'Ackkstudios': 1, 'Zushi Games': 1, 'Alternative Software': 1, 'Max Five': 1, 'Media Rings': 1, 'inXile Entertainment': 1, 'ASCII Entertainment': 1, 'Hudson Entertainment': 1, 'Phantom EFX': 1, 'Maxis': 1, 'Illusion Softworks': 1, 'Sunflowers': 1, 'Bohemia Interactive': 1, 'Iceberg Interactive': 1, 'Introversion Software': 1, 'White Park Bay Software': 1, 'Avanquest': 1, 'Number None': 1, 'TalonSoft': 1, 'Fox Interactive': 1, 'Mercury Games': 1, 'Activision Blizzard': 1, 'Global A Entertainment': 1, 'Cloud Imperium Games Corporation': 1, 'Aqua Plus': 1, 'O-Games': 1, 'FuRyu Corporation': 1, 'Nihon Falcom Corporation': 1, 'Scholastic Inc.': 1, 'Home Entertainment Suppliers': 1, 'Graphsim Entertainment': 1, 'Square': 1, 'Monte Christo Multimedia': 1, 'NDA Productions': 1, 'Russel': 1, 'Funbox Media': 1, 'O3 Entertainment': 1, 'Dusenberry Martin Racing': 1, 'CDV Software Entertainment': 1, 'Crimson Cow': 1, 'Conspiracy Entertainment': 1, 'Havas Interactive': 1, 'System 3': 1, 'Myelin Media': 1, 'Sunsoft': 1, 'Encore': 1, 'Wargaming.net': 1, '5pb': 1, 'Pacific Century Cyber Works': 1, 'Tetris Online': 1, 'DHM Interactive': 1, 'Reef Entertainment': 1, 'SNK': 1, 'RTL': 1, 'Pinnacle': 1, 'Codemasters Online': 1, 'PM Studios': 1, 'Hello Games': 1, 'Black Label Games': 1, 'Acquire': 1, 'Lexicon Entertainment': 1, 'Team17 Software': 1, 'TopWare Interactive': 1, 'Kool Kizz': 1, 'Popcorn Arcade': 1, 'Cave': 1, 'Phantagram': 1, 'Strategy First': 1, 'Lighthouse Interactive': 1, '10TACLE Studios': 1, 'Groove Games': 1, 'Devolver Digital': 1, 'Telegames': 1, 'Square EA': 1, '2D Boy': 1, 'Hasbro Interactive': 1, 'Just Flight': 1, 'NewKidCo': 1, 'DSI Games': 1, 'Valve': 1, 'id Software': 1, 'Moss': 1, 'GOA': 1, 'EA Games': 1, 'Rebellion Developments': 1, 'ESP': 1, 'Gearbox Software': 1}\n"
     ]
    }
   ],
   "source": [
    "pub = dict(df['Publisher'].value_counts())\n",
    "\n",
    "print(pub)"
   ]
  },
  {
   "cell_type": "code",
   "execution_count": 75,
   "id": "cd5b52c4",
   "metadata": {},
   "outputs": [
    {
     "data": {
      "text/html": [
       "<div>\n",
       "<style scoped>\n",
       "    .dataframe tbody tr th:only-of-type {\n",
       "        vertical-align: middle;\n",
       "    }\n",
       "\n",
       "    .dataframe tbody tr th {\n",
       "        vertical-align: top;\n",
       "    }\n",
       "\n",
       "    .dataframe thead th {\n",
       "        text-align: right;\n",
       "    }\n",
       "</style>\n",
       "<table border=\"1\" class=\"dataframe\">\n",
       "  <thead>\n",
       "    <tr style=\"text-align: right;\">\n",
       "      <th></th>\n",
       "      <th>Name</th>\n",
       "      <th>Platform</th>\n",
       "      <th>Year_of_Release</th>\n",
       "      <th>Genre</th>\n",
       "      <th>Publisher</th>\n",
       "      <th>NA_Sales</th>\n",
       "      <th>EU_Sales</th>\n",
       "      <th>JP_Sales</th>\n",
       "      <th>Other_Sales</th>\n",
       "      <th>Critic_Score</th>\n",
       "      <th>Critic_Count</th>\n",
       "      <th>User_Score</th>\n",
       "      <th>User_Count</th>\n",
       "      <th>Developer</th>\n",
       "      <th>Rating</th>\n",
       "      <th>platform_new</th>\n",
       "      <th>Developer_new</th>\n",
       "      <th>Rating_new</th>\n",
       "      <th>Publisher_new</th>\n",
       "    </tr>\n",
       "  </thead>\n",
       "  <tbody>\n",
       "    <tr>\n",
       "      <th>0</th>\n",
       "      <td>Wii Sports</td>\n",
       "      <td>Wii</td>\n",
       "      <td>2006.0</td>\n",
       "      <td>Sports</td>\n",
       "      <td>Nintendo</td>\n",
       "      <td>41.36</td>\n",
       "      <td>28.96</td>\n",
       "      <td>3.77</td>\n",
       "      <td>8.45</td>\n",
       "      <td>76.0</td>\n",
       "      <td>51.0</td>\n",
       "      <td>8</td>\n",
       "      <td>322.0</td>\n",
       "      <td>Nintendo</td>\n",
       "      <td>E</td>\n",
       "      <td>other_console</td>\n",
       "      <td>other_dev</td>\n",
       "      <td>E</td>\n",
       "      <td>Nintendo</td>\n",
       "    </tr>\n",
       "  </tbody>\n",
       "</table>\n",
       "</div>"
      ],
      "text/plain": [
       "         Name Platform  Year_of_Release   Genre Publisher  NA_Sales  EU_Sales  \\\n",
       "0  Wii Sports      Wii           2006.0  Sports  Nintendo     41.36     28.96   \n",
       "\n",
       "   JP_Sales  Other_Sales  Critic_Score  Critic_Count User_Score  User_Count  \\\n",
       "0      3.77         8.45          76.0          51.0          8       322.0   \n",
       "\n",
       "  Developer Rating   platform_new Developer_new Rating_new Publisher_new  \n",
       "0  Nintendo      E  other_console     other_dev          E      Nintendo  "
      ]
     },
     "execution_count": 75,
     "metadata": {},
     "output_type": "execute_result"
    }
   ],
   "source": [
    "def publisher(x):\n",
    "  if x == 'Electronic Arts':\n",
    "    return 'Electronic Arts'\n",
    "  elif x == 'Activision':\n",
    "    return 'Activision'\n",
    "  elif x == 'Ubisoft':\n",
    "    return 'Ubisoft'\n",
    "  elif x == 'Sony Computer Entertainment':\n",
    "    return 'Sony Computer Entertainment'\n",
    "  elif x == 'Nintendo':\n",
    "    return 'Nintendo'\n",
    "  elif x == 'Konami Digital Entertainment':\n",
    "    return 'Konami Digital Entertainment'\n",
    "  else:\n",
    "    return 'other_publisher'\n",
    "\n",
    "df['Publisher_new'] = df['Publisher'].map(publisher)\n",
    "\n",
    "df.head(1)"
   ]
  },
  {
   "cell_type": "code",
   "execution_count": 76,
   "id": "83b0811b",
   "metadata": {},
   "outputs": [],
   "source": [
    "df=df.drop(['Platform', 'Genre', 'Publisher', 'User_Score', 'Developer', 'Rating', 'Name'],axis=1)"
   ]
  },
  {
   "cell_type": "code",
   "execution_count": 77,
   "id": "98e64414",
   "metadata": {},
   "outputs": [
    {
     "data": {
      "text/html": [
       "<div>\n",
       "<style scoped>\n",
       "    .dataframe tbody tr th:only-of-type {\n",
       "        vertical-align: middle;\n",
       "    }\n",
       "\n",
       "    .dataframe tbody tr th {\n",
       "        vertical-align: top;\n",
       "    }\n",
       "\n",
       "    .dataframe thead th {\n",
       "        text-align: right;\n",
       "    }\n",
       "</style>\n",
       "<table border=\"1\" class=\"dataframe\">\n",
       "  <thead>\n",
       "    <tr style=\"text-align: right;\">\n",
       "      <th></th>\n",
       "      <th>Year_of_Release</th>\n",
       "      <th>NA_Sales</th>\n",
       "      <th>EU_Sales</th>\n",
       "      <th>JP_Sales</th>\n",
       "      <th>Other_Sales</th>\n",
       "      <th>Critic_Score</th>\n",
       "      <th>Critic_Count</th>\n",
       "      <th>User_Count</th>\n",
       "      <th>platform_new</th>\n",
       "      <th>Developer_new</th>\n",
       "      <th>Rating_new</th>\n",
       "      <th>Publisher_new</th>\n",
       "    </tr>\n",
       "  </thead>\n",
       "  <tbody>\n",
       "    <tr>\n",
       "      <th>0</th>\n",
       "      <td>2006.0</td>\n",
       "      <td>41.36</td>\n",
       "      <td>28.96</td>\n",
       "      <td>3.77</td>\n",
       "      <td>8.45</td>\n",
       "      <td>76.0</td>\n",
       "      <td>51.0</td>\n",
       "      <td>322.0</td>\n",
       "      <td>other_console</td>\n",
       "      <td>other_dev</td>\n",
       "      <td>E</td>\n",
       "      <td>Nintendo</td>\n",
       "    </tr>\n",
       "    <tr>\n",
       "      <th>2</th>\n",
       "      <td>2008.0</td>\n",
       "      <td>15.68</td>\n",
       "      <td>12.76</td>\n",
       "      <td>3.79</td>\n",
       "      <td>3.29</td>\n",
       "      <td>82.0</td>\n",
       "      <td>73.0</td>\n",
       "      <td>709.0</td>\n",
       "      <td>other_console</td>\n",
       "      <td>other_dev</td>\n",
       "      <td>E</td>\n",
       "      <td>Nintendo</td>\n",
       "    </tr>\n",
       "    <tr>\n",
       "      <th>3</th>\n",
       "      <td>2009.0</td>\n",
       "      <td>15.61</td>\n",
       "      <td>10.93</td>\n",
       "      <td>3.28</td>\n",
       "      <td>2.95</td>\n",
       "      <td>80.0</td>\n",
       "      <td>73.0</td>\n",
       "      <td>192.0</td>\n",
       "      <td>other_console</td>\n",
       "      <td>other_dev</td>\n",
       "      <td>E</td>\n",
       "      <td>Nintendo</td>\n",
       "    </tr>\n",
       "    <tr>\n",
       "      <th>6</th>\n",
       "      <td>2006.0</td>\n",
       "      <td>11.28</td>\n",
       "      <td>9.14</td>\n",
       "      <td>6.50</td>\n",
       "      <td>2.88</td>\n",
       "      <td>89.0</td>\n",
       "      <td>65.0</td>\n",
       "      <td>431.0</td>\n",
       "      <td>other_console</td>\n",
       "      <td>other_dev</td>\n",
       "      <td>E</td>\n",
       "      <td>Nintendo</td>\n",
       "    </tr>\n",
       "    <tr>\n",
       "      <th>7</th>\n",
       "      <td>2006.0</td>\n",
       "      <td>13.96</td>\n",
       "      <td>9.18</td>\n",
       "      <td>2.93</td>\n",
       "      <td>2.84</td>\n",
       "      <td>58.0</td>\n",
       "      <td>41.0</td>\n",
       "      <td>129.0</td>\n",
       "      <td>other_console</td>\n",
       "      <td>other_dev</td>\n",
       "      <td>E</td>\n",
       "      <td>Nintendo</td>\n",
       "    </tr>\n",
       "  </tbody>\n",
       "</table>\n",
       "</div>"
      ],
      "text/plain": [
       "   Year_of_Release  NA_Sales  EU_Sales  JP_Sales  Other_Sales  Critic_Score  \\\n",
       "0           2006.0     41.36     28.96      3.77         8.45          76.0   \n",
       "2           2008.0     15.68     12.76      3.79         3.29          82.0   \n",
       "3           2009.0     15.61     10.93      3.28         2.95          80.0   \n",
       "6           2006.0     11.28      9.14      6.50         2.88          89.0   \n",
       "7           2006.0     13.96      9.18      2.93         2.84          58.0   \n",
       "\n",
       "   Critic_Count  User_Count   platform_new Developer_new Rating_new  \\\n",
       "0          51.0       322.0  other_console     other_dev          E   \n",
       "2          73.0       709.0  other_console     other_dev          E   \n",
       "3          73.0       192.0  other_console     other_dev          E   \n",
       "6          65.0       431.0  other_console     other_dev          E   \n",
       "7          41.0       129.0  other_console     other_dev          E   \n",
       "\n",
       "  Publisher_new  \n",
       "0      Nintendo  \n",
       "2      Nintendo  \n",
       "3      Nintendo  \n",
       "6      Nintendo  \n",
       "7      Nintendo  "
      ]
     },
     "execution_count": 77,
     "metadata": {},
     "output_type": "execute_result"
    }
   ],
   "source": [
    "df.head()"
   ]
  },
  {
   "cell_type": "code",
   "execution_count": 78,
   "id": "326a4a91",
   "metadata": {},
   "outputs": [],
   "source": [
    "plat_new = pd.get_dummies(df['platform_new'])\n",
    "dev_new = pd.get_dummies(df['Developer_new'])\n",
    "rat_new = pd.get_dummies(df['Rating_new'])\n",
    "pub_new = pd.get_dummies(df['Publisher_new'])\n"
   ]
  },
  {
   "cell_type": "code",
   "execution_count": 79,
   "id": "5efe4031",
   "metadata": {},
   "outputs": [],
   "source": [
    "df = pd.concat([df, plat_new, dev_new, rat_new, pub_new], axis = 1)"
   ]
  },
  {
   "cell_type": "code",
   "execution_count": 80,
   "id": "8bafbe2a",
   "metadata": {},
   "outputs": [],
   "source": [
    "df = df.drop(['platform_new', 'Developer_new', 'Rating_new', 'Publisher_new'], axis = 1) "
   ]
  },
  {
   "cell_type": "code",
   "execution_count": 81,
   "id": "42817f34",
   "metadata": {},
   "outputs": [
    {
     "data": {
      "text/html": [
       "<div>\n",
       "<style scoped>\n",
       "    .dataframe tbody tr th:only-of-type {\n",
       "        vertical-align: middle;\n",
       "    }\n",
       "\n",
       "    .dataframe tbody tr th {\n",
       "        vertical-align: top;\n",
       "    }\n",
       "\n",
       "    .dataframe thead th {\n",
       "        text-align: right;\n",
       "    }\n",
       "</style>\n",
       "<table border=\"1\" class=\"dataframe\">\n",
       "  <thead>\n",
       "    <tr style=\"text-align: right;\">\n",
       "      <th></th>\n",
       "      <th>Year_of_Release</th>\n",
       "      <th>NA_Sales</th>\n",
       "      <th>EU_Sales</th>\n",
       "      <th>JP_Sales</th>\n",
       "      <th>Other_Sales</th>\n",
       "      <th>Critic_Score</th>\n",
       "      <th>Critic_Count</th>\n",
       "      <th>User_Count</th>\n",
       "      <th>PC</th>\n",
       "      <th>PS2</th>\n",
       "      <th>...</th>\n",
       "      <th>M</th>\n",
       "      <th>T</th>\n",
       "      <th>other_rating</th>\n",
       "      <th>Activision</th>\n",
       "      <th>Electronic Arts</th>\n",
       "      <th>Konami Digital Entertainment</th>\n",
       "      <th>Nintendo</th>\n",
       "      <th>Sony Computer Entertainment</th>\n",
       "      <th>Ubisoft</th>\n",
       "      <th>other_publisher</th>\n",
       "    </tr>\n",
       "  </thead>\n",
       "  <tbody>\n",
       "    <tr>\n",
       "      <th>0</th>\n",
       "      <td>2006.0</td>\n",
       "      <td>41.36</td>\n",
       "      <td>28.96</td>\n",
       "      <td>3.77</td>\n",
       "      <td>8.45</td>\n",
       "      <td>76.0</td>\n",
       "      <td>51.0</td>\n",
       "      <td>322.0</td>\n",
       "      <td>0</td>\n",
       "      <td>0</td>\n",
       "      <td>...</td>\n",
       "      <td>0</td>\n",
       "      <td>0</td>\n",
       "      <td>0</td>\n",
       "      <td>0</td>\n",
       "      <td>0</td>\n",
       "      <td>0</td>\n",
       "      <td>1</td>\n",
       "      <td>0</td>\n",
       "      <td>0</td>\n",
       "      <td>0</td>\n",
       "    </tr>\n",
       "    <tr>\n",
       "      <th>2</th>\n",
       "      <td>2008.0</td>\n",
       "      <td>15.68</td>\n",
       "      <td>12.76</td>\n",
       "      <td>3.79</td>\n",
       "      <td>3.29</td>\n",
       "      <td>82.0</td>\n",
       "      <td>73.0</td>\n",
       "      <td>709.0</td>\n",
       "      <td>0</td>\n",
       "      <td>0</td>\n",
       "      <td>...</td>\n",
       "      <td>0</td>\n",
       "      <td>0</td>\n",
       "      <td>0</td>\n",
       "      <td>0</td>\n",
       "      <td>0</td>\n",
       "      <td>0</td>\n",
       "      <td>1</td>\n",
       "      <td>0</td>\n",
       "      <td>0</td>\n",
       "      <td>0</td>\n",
       "    </tr>\n",
       "    <tr>\n",
       "      <th>3</th>\n",
       "      <td>2009.0</td>\n",
       "      <td>15.61</td>\n",
       "      <td>10.93</td>\n",
       "      <td>3.28</td>\n",
       "      <td>2.95</td>\n",
       "      <td>80.0</td>\n",
       "      <td>73.0</td>\n",
       "      <td>192.0</td>\n",
       "      <td>0</td>\n",
       "      <td>0</td>\n",
       "      <td>...</td>\n",
       "      <td>0</td>\n",
       "      <td>0</td>\n",
       "      <td>0</td>\n",
       "      <td>0</td>\n",
       "      <td>0</td>\n",
       "      <td>0</td>\n",
       "      <td>1</td>\n",
       "      <td>0</td>\n",
       "      <td>0</td>\n",
       "      <td>0</td>\n",
       "    </tr>\n",
       "    <tr>\n",
       "      <th>6</th>\n",
       "      <td>2006.0</td>\n",
       "      <td>11.28</td>\n",
       "      <td>9.14</td>\n",
       "      <td>6.50</td>\n",
       "      <td>2.88</td>\n",
       "      <td>89.0</td>\n",
       "      <td>65.0</td>\n",
       "      <td>431.0</td>\n",
       "      <td>0</td>\n",
       "      <td>0</td>\n",
       "      <td>...</td>\n",
       "      <td>0</td>\n",
       "      <td>0</td>\n",
       "      <td>0</td>\n",
       "      <td>0</td>\n",
       "      <td>0</td>\n",
       "      <td>0</td>\n",
       "      <td>1</td>\n",
       "      <td>0</td>\n",
       "      <td>0</td>\n",
       "      <td>0</td>\n",
       "    </tr>\n",
       "    <tr>\n",
       "      <th>7</th>\n",
       "      <td>2006.0</td>\n",
       "      <td>13.96</td>\n",
       "      <td>9.18</td>\n",
       "      <td>2.93</td>\n",
       "      <td>2.84</td>\n",
       "      <td>58.0</td>\n",
       "      <td>41.0</td>\n",
       "      <td>129.0</td>\n",
       "      <td>0</td>\n",
       "      <td>0</td>\n",
       "      <td>...</td>\n",
       "      <td>0</td>\n",
       "      <td>0</td>\n",
       "      <td>0</td>\n",
       "      <td>0</td>\n",
       "      <td>0</td>\n",
       "      <td>0</td>\n",
       "      <td>1</td>\n",
       "      <td>0</td>\n",
       "      <td>0</td>\n",
       "      <td>0</td>\n",
       "    </tr>\n",
       "  </tbody>\n",
       "</table>\n",
       "<p>5 rows × 30 columns</p>\n",
       "</div>"
      ],
      "text/plain": [
       "   Year_of_Release  NA_Sales  EU_Sales  JP_Sales  Other_Sales  Critic_Score  \\\n",
       "0           2006.0     41.36     28.96      3.77         8.45          76.0   \n",
       "2           2008.0     15.68     12.76      3.79         3.29          82.0   \n",
       "3           2009.0     15.61     10.93      3.28         2.95          80.0   \n",
       "6           2006.0     11.28      9.14      6.50         2.88          89.0   \n",
       "7           2006.0     13.96      9.18      2.93         2.84          58.0   \n",
       "\n",
       "   Critic_Count  User_Count  PC  PS2  ...  M  T  other_rating  Activision  \\\n",
       "0          51.0       322.0   0    0  ...  0  0             0           0   \n",
       "2          73.0       709.0   0    0  ...  0  0             0           0   \n",
       "3          73.0       192.0   0    0  ...  0  0             0           0   \n",
       "6          65.0       431.0   0    0  ...  0  0             0           0   \n",
       "7          41.0       129.0   0    0  ...  0  0             0           0   \n",
       "\n",
       "   Electronic Arts  Konami Digital Entertainment  Nintendo  \\\n",
       "0                0                             0         1   \n",
       "2                0                             0         1   \n",
       "3                0                             0         1   \n",
       "6                0                             0         1   \n",
       "7                0                             0         1   \n",
       "\n",
       "   Sony Computer Entertainment  Ubisoft  other_publisher  \n",
       "0                            0        0                0  \n",
       "2                            0        0                0  \n",
       "3                            0        0                0  \n",
       "6                            0        0                0  \n",
       "7                            0        0                0  \n",
       "\n",
       "[5 rows x 30 columns]"
      ]
     },
     "execution_count": 81,
     "metadata": {},
     "output_type": "execute_result"
    }
   ],
   "source": [
    "df.head()"
   ]
  },
  {
   "cell_type": "code",
   "execution_count": 82,
   "id": "d2e63f11",
   "metadata": {},
   "outputs": [],
   "source": [
    "y = df['Other_Sales']\n",
    "X= df.drop(['Other_Sales'], axis = 1) "
   ]
  },
  {
   "cell_type": "code",
   "execution_count": 84,
   "id": "95d1406e",
   "metadata": {},
   "outputs": [],
   "source": [
    "from sklearn.model_selection import train_test_split"
   ]
  },
  {
   "cell_type": "code",
   "execution_count": 85,
   "id": "5551614a",
   "metadata": {},
   "outputs": [],
   "source": [
    "X_train, X_test, y_train, y_test = train_test_split(X, y, test_size=0.3)"
   ]
  },
  {
   "cell_type": "code",
   "execution_count": 87,
   "id": "46597084",
   "metadata": {},
   "outputs": [],
   "source": [
    "from sklearn.linear_model import LinearRegression"
   ]
  },
  {
   "cell_type": "code",
   "execution_count": 88,
   "id": "eb71685d",
   "metadata": {},
   "outputs": [],
   "source": [
    "reg = LinearRegression()\n",
    "model = reg.fit(X_train, y_train)"
   ]
  },
  {
   "cell_type": "code",
   "execution_count": 89,
   "id": "d50d3496",
   "metadata": {},
   "outputs": [
    {
     "name": "stdout",
     "output_type": "stream",
     "text": [
      "0.6160757745300647\n"
     ]
    }
   ],
   "source": [
    "print(reg.score(X_train, y_train))"
   ]
  },
  {
   "cell_type": "code",
   "execution_count": 90,
   "id": "59de7810",
   "metadata": {},
   "outputs": [
    {
     "name": "stdout",
     "output_type": "stream",
     "text": [
      "0.4922452454370776\n"
     ]
    }
   ],
   "source": [
    "pred = reg.predict(X_test)\n",
    "\n",
    "r2_score = reg.score(X_test,y_test)\n",
    "print(r2_score)"
   ]
  },
  {
   "cell_type": "code",
   "execution_count": null,
   "id": "140d80f2",
   "metadata": {},
   "outputs": [],
   "source": []
  }
 ],
 "metadata": {
  "kernelspec": {
   "display_name": "Python 3 (ipykernel)",
   "language": "python",
   "name": "python3"
  },
  "language_info": {
   "codemirror_mode": {
    "name": "ipython",
    "version": 3
   },
   "file_extension": ".py",
   "mimetype": "text/x-python",
   "name": "python",
   "nbconvert_exporter": "python",
   "pygments_lexer": "ipython3",
   "version": "3.9.7"
  }
 },
 "nbformat": 4,
 "nbformat_minor": 5
}
